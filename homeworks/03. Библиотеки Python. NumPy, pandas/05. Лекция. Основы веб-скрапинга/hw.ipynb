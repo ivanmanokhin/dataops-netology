{
  "cells": [
    {
      "cell_type": "markdown",
      "metadata": {
        "id": "EJVQuFLS-ps5"
      },
      "source": [
        "# Домашнее задание по теме: \"Основы веб-скрапинга\""
      ]
    },
    {
      "cell_type": "markdown",
      "metadata": {
        "id": "o7HHHqPP-ps6"
      },
      "source": [
        "## Обязательная часть\n",
        "Вам необходимо написать функцию, которая будет основана на поиске по сайту habr.com. Функция в качестве параметра должна принимать список запросов для поиска (например, ['python', 'анализ данных']) и на основе материалов, попавших в результаты поиска по каждому запросу, возвращать датафрейм вида:\n",
        "\n",
        "<дата> - <заголовок> - <ссылка на материал>\n",
        "\n",
        "В рамках задания предполагается работа только с одной (первой) страницей результатов поисковой выдачи для каждого запроса.\n",
        "\n",
        "Материалы в датафрейме не должны дублироваться, если они попадали в результаты поиска для нескольких запросов из списка."
      ]
    },
    {
      "cell_type": "code",
      "execution_count": 3,
      "metadata": {
        "id": "YE5rs28R-ps7"
      },
      "outputs": [],
      "source": [
        "# импорт библиотек\n",
        "from bs4 import BeautifulSoup\n",
        "from datetime import datetime\n",
        "import pandas as pd\n",
        "import time\n",
        "from IPython.display import display, HTML # для отображения полных строк и кликабельных ссылок\n",
        "from random import random\n",
        "import requests\n",
        "import re"
      ]
    },
    {
      "cell_type": "code",
      "execution_count": 32,
      "metadata": {
        "id": "8P143rFm-ps9"
      },
      "outputs": [],
      "source": [
        "def get_posts_df(url, params):\n",
        "    '''Функция получающая данные из поиска на сайте habr.ru'''\n",
        "    df = pd.DataFrame()\n",
        "\n",
        "    res = requests.get(url + f'/ru/search', params=params)\n",
        "    soup = BeautifulSoup(res.text)\n",
        "\n",
        "    # полученние объектов с классом tm-articles-list__item\n",
        "    articles = soup.find_all('article', class_='tm-articles-list__item') \n",
        "\n",
        "    # проход в цикле по объектам articles, получение и запись нужных данных в dataframe\n",
        "    for article in articles:\n",
        "        date_full = article.find('span', class_='tm-article-snippet__datetime-published').find('time').get('datetime')\n",
        "        date = datetime.strptime(str(date_full), '%Y-%m-%dT%H:%M:%S.000Z') # изменение формата даты\n",
        "        title = article.find('a', class_=\"tm-article-snippet__title-link\").text\n",
        "        link = url + article.find('a', class_=\"tm-article-snippet__title-link\").get('href')\n",
        "        \n",
        "        # итоговый словарь для формирования строки\n",
        "        row = {'date' : date, 'title' : title, 'link' : link}\n",
        "\n",
        "        # построчное добавление данных в dataframe\n",
        "        df = pd.concat([df, pd.DataFrame([row])])\n",
        "\n",
        "    return df"
      ]
    },
    {
      "cell_type": "code",
      "execution_count": 33,
      "metadata": {
        "id": "IpEUZvoH-ps-"
      },
      "outputs": [],
      "source": [
        "# ссылка и параметры\n",
        "url = 'https://habr.com'\n",
        "params = {\n",
        "   'q': 'python'\n",
        "}\n",
        "\n",
        "habr_posts = get_posts_df(url, params)"
      ]
    },
    {
      "cell_type": "code",
      "source": [
        "# проверка количества\n",
        "len(habr_posts)"
      ],
      "metadata": {
        "colab": {
          "base_uri": "https://localhost:8080/"
        },
        "id": "lMOtfSzyOjNv",
        "outputId": "c05a1cb9-5fd5-43ff-e19b-362c3fa06de7"
      },
      "execution_count": 34,
      "outputs": [
        {
          "output_type": "execute_result",
          "data": {
            "text/plain": [
              "20"
            ]
          },
          "metadata": {},
          "execution_count": 34
        }
      ]
    },
    {
      "cell_type": "code",
      "source": [
        "# проверка содержания\n",
        "display(HTML(habr_posts.head(10).reset_index(drop=True).to_html(render_links=True, escape=False)))"
      ],
      "metadata": {
        "colab": {
          "base_uri": "https://localhost:8080/",
          "height": 363
        },
        "id": "K9k5o3E-OkFh",
        "outputId": "09dcce29-e0c6-480b-e75a-6ca2181acb5b"
      },
      "execution_count": 36,
      "outputs": [
        {
          "output_type": "display_data",
          "data": {
            "text/plain": [
              "<IPython.core.display.HTML object>"
            ],
            "text/html": [
              "<table border=\"1\" class=\"dataframe\">\n",
              "  <thead>\n",
              "    <tr style=\"text-align: right;\">\n",
              "      <th></th>\n",
              "      <th>date</th>\n",
              "      <th>title</th>\n",
              "      <th>link</th>\n",
              "    </tr>\n",
              "  </thead>\n",
              "  <tbody>\n",
              "    <tr>\n",
              "      <th>0</th>\n",
              "      <td>2022-08-29 09:05:02</td>\n",
              "      <td>Логирование в Python: руководство разработчика</td>\n",
              "      <td><a href=\"https://habr.com/ru/company/wunderfund/blog/683880/\" target=\"_blank\">https://habr.com/ru/company/wunderfund/blog/683880/</a></td>\n",
              "    </tr>\n",
              "    <tr>\n",
              "      <th>1</th>\n",
              "      <td>2022-01-20 15:37:16</td>\n",
              "      <td>Курс «Python для инженеров». Старт 3 потока 31 января</td>\n",
              "      <td><a href=\"https://habr.com/ru/company/southbridge/news/t/646825/\" target=\"_blank\">https://habr.com/ru/company/southbridge/news/t/646825/</a></td>\n",
              "    </tr>\n",
              "    <tr>\n",
              "      <th>2</th>\n",
              "      <td>2020-04-21 15:35:14</td>\n",
              "      <td>Вышел Python 2.7.18, последний релиз ветки Python 2.x</td>\n",
              "      <td><a href=\"https://habr.com/ru/news/t/498364/\" target=\"_blank\">https://habr.com/ru/news/t/498364/</a></td>\n",
              "    </tr>\n",
              "    <tr>\n",
              "      <th>3</th>\n",
              "      <td>2021-12-13 06:00:03</td>\n",
              "      <td>Жаждущим автоматизации: открытый урок «ChatOps c Errbot на Python», 21 декабря</td>\n",
              "      <td><a href=\"https://habr.com/ru/company/southbridge/news/t/595093/\" target=\"_blank\">https://habr.com/ru/company/southbridge/news/t/595093/</a></td>\n",
              "    </tr>\n",
              "    <tr>\n",
              "      <th>4</th>\n",
              "      <td>2021-07-06 10:29:57</td>\n",
              "      <td>Python Community Meetup 8/07: видео и материалы встречи</td>\n",
              "      <td><a href=\"https://habr.com/ru/company/raiffeisenbank/news/t/566370/\" target=\"_blank\">https://habr.com/ru/company/raiffeisenbank/news/t/566370/</a></td>\n",
              "    </tr>\n",
              "    <tr>\n",
              "      <th>5</th>\n",
              "      <td>2022-01-13 15:35:30</td>\n",
              "      <td>Открытый урок «Пишем Custom Prometheus Exporter на Python», 19 января</td>\n",
              "      <td><a href=\"https://habr.com/ru/company/southbridge/news/t/645485/\" target=\"_blank\">https://habr.com/ru/company/southbridge/news/t/645485/</a></td>\n",
              "    </tr>\n",
              "    <tr>\n",
              "      <th>6</th>\n",
              "      <td>2020-12-04 18:03:25</td>\n",
              "      <td>Python как компилируемый статически типизированный язык программирования</td>\n",
              "      <td><a href=\"https://habr.com/ru/news/t/531402/\" target=\"_blank\">https://habr.com/ru/news/t/531402/</a></td>\n",
              "    </tr>\n",
              "    <tr>\n",
              "      <th>7</th>\n",
              "      <td>2022-03-08 09:13:52</td>\n",
              "      <td>Вышел мартовский релиз расширения Python для Visual Studio Code</td>\n",
              "      <td><a href=\"https://habr.com/ru/news/t/654707/\" target=\"_blank\">https://habr.com/ru/news/t/654707/</a></td>\n",
              "    </tr>\n",
              "    <tr>\n",
              "      <th>8</th>\n",
              "      <td>2020-03-03 10:22:32</td>\n",
              "      <td>В начале этого года Python сместил Java и стал вторым по популярности языком программирования среди разработчиков</td>\n",
              "      <td><a href=\"https://habr.com/ru/company/itsumma/news/t/490834/\" target=\"_blank\">https://habr.com/ru/company/itsumma/news/t/490834/</a></td>\n",
              "    </tr>\n",
              "    <tr>\n",
              "      <th>9</th>\n",
              "      <td>2021-11-16 13:09:46</td>\n",
              "      <td>EPAM разработала бесплатный курс по программированию для детей и подростков «Chatbot on Python. Part 1»</td>\n",
              "      <td><a href=\"https://habr.com/ru/company/epam_systems/news/t/589555/\" target=\"_blank\">https://habr.com/ru/company/epam_systems/news/t/589555/</a></td>\n",
              "    </tr>\n",
              "  </tbody>\n",
              "</table>"
            ]
          },
          "metadata": {}
        }
      ]
    },
    {
      "cell_type": "markdown",
      "metadata": {
        "id": "25UnZbRo-ps-"
      },
      "source": [
        "## Дополнительная часть (необязательная)\n",
        "Функция из обязательной части задания должна быть расширена следующим образом:\n",
        "\n",
        "кроме списка ключевых слов для поиска необходимо объявить параметр с количеством страниц поисковой выдачи. Т.е. при передаче в функцию аргумента 4 необходимо получить материалы с первых 4 страниц результатов;\n",
        "в датафрейме должны быть столбцы с полным текстом найденных материалов и количеством лайков:\n",
        "<дата> - <заголовок> - <ссылка на материал> - <текст материала> - <количество лайков>"
      ]
    },
    {
      "cell_type": "code",
      "execution_count": 6,
      "metadata": {
        "id": "6QFvyc73-ps-"
      },
      "outputs": [],
      "source": [
        "def get_posts_df(url, params, pcount):\n",
        "    '''Функция получающая данные из поиска на сайте habr.ru'''\n",
        "    df = pd.DataFrame()\n",
        "\n",
        "    for page in range(0, pcount):\n",
        "        res = requests.get(url + f'/ru/search/page{page + 1}', params=params)\n",
        "        soup = BeautifulSoup(res.text)\n",
        "\n",
        "        # полученние объектов с классом tm-articles-list__item\n",
        "        articles = soup.find_all('article', class_='tm-articles-list__item')\n",
        "\n",
        "        # проход в цикле по объектам articles, получение и запись нужных данных в dataframe\n",
        "        for article in articles:\n",
        "            date_full = article.find('span', class_='tm-article-snippet__datetime-published').find('time').get('datetime')\n",
        "            date = datetime.strptime(str(date_full), '%Y-%m-%dT%H:%M:%S.000Z') # изменение формата даты\n",
        "            title = article.find('a', class_=\"tm-article-snippet__title-link\").text\n",
        "            link = url + article.find('a', class_=\"tm-article-snippet__title-link\").get('href')\n",
        "\n",
        "            # получение текста материала\n",
        "            # из-за такой https://habr.com/ru/company/epam_systems/news/t/589555/ ссылки в поиске добавил try/except\n",
        "            try:\n",
        "                text = BeautifulSoup(requests.get(link).text).find('div', class_='article-formatted-body').text\n",
        "            except:\n",
        "                print(f'Редирект или нерабочая ссылка ({link})')\n",
        "                continue\n",
        "\n",
        "            # получение лайков и дизлайков\n",
        "            votes_text = article.find('svg', class_='tm-votes-meter__icon').text\n",
        "            votes = re.findall(r'\\d+', votes_text)\n",
        "            # если список пустой подстановка нулей\n",
        "            likes, dislikes = (votes[1], votes[2]) if len(votes) != 0 else (0, 0)\n",
        "\n",
        "            # итоговый словарь для формирования строки\n",
        "            row = {'date' : date, 'title' : title, 'link' : link, 'text': text, 'likes': likes, 'dislikes': dislikes}\n",
        "\n",
        "            # построчное добавление данных в dataframe\n",
        "            df = pd.concat([df, pd.DataFrame([row])])\n",
        "  \n",
        "        # пауза, что бы избежать блокировку\n",
        "        time.sleep(0) if pcount == 1 else time.sleep(random())\n",
        "\n",
        "    return df"
      ]
    },
    {
      "cell_type": "code",
      "execution_count": 7,
      "metadata": {
        "colab": {
          "base_uri": "https://localhost:8080/"
        },
        "id": "ic_Q7fOD-ps_",
        "outputId": "55a25ef5-01d7-4f79-de97-a52e6ca303f5"
      },
      "outputs": [
        {
          "output_type": "stream",
          "name": "stdout",
          "text": [
            "Редирект или нерабочая ссылка (https://habr.com/ru/company/epam_systems/news/t/589555/)\n"
          ]
        }
      ],
      "source": [
        "# ссылка и параметры\n",
        "url = 'https://habr.com'\n",
        "params = {\n",
        "   'q': 'python'\n",
        "}\n",
        "\n",
        "# количество страниц\n",
        "pcount = 5\n",
        "\n",
        "habr_posts = get_posts_df(url, params, pcount)"
      ]
    },
    {
      "cell_type": "code",
      "source": [
        "# проверка количества\n",
        "len(habr_posts)"
      ],
      "metadata": {
        "colab": {
          "base_uri": "https://localhost:8080/"
        },
        "id": "uiwIktUmOUhM",
        "outputId": "8573abe5-91df-4eb3-a81a-f5816ba5203e"
      },
      "execution_count": 8,
      "outputs": [
        {
          "output_type": "execute_result",
          "data": {
            "text/plain": [
              "99"
            ]
          },
          "metadata": {},
          "execution_count": 8
        }
      ]
    },
    {
      "cell_type": "code",
      "source": [
        "# проверка содержания\n",
        "display(HTML(habr_posts.sample(10).reset_index(drop=True).to_html(render_links=True, escape=False, formatters={'text': lambda x: str(x)[:256]})))"
      ],
      "metadata": {
        "colab": {
          "base_uri": "https://localhost:8080/",
          "height": 658
        },
        "id": "9yRPut4JO3bF",
        "outputId": "2af71849-3837-41b8-8155-b10246751fc4"
      },
      "execution_count": 9,
      "outputs": [
        {
          "output_type": "display_data",
          "data": {
            "text/plain": [
              "<IPython.core.display.HTML object>"
            ],
            "text/html": [
              "<table border=\"1\" class=\"dataframe\">\n",
              "  <thead>\n",
              "    <tr style=\"text-align: right;\">\n",
              "      <th></th>\n",
              "      <th>date</th>\n",
              "      <th>title</th>\n",
              "      <th>link</th>\n",
              "      <th>text</th>\n",
              "      <th>likes</th>\n",
              "      <th>dislikes</th>\n",
              "    </tr>\n",
              "  </thead>\n",
              "  <tbody>\n",
              "    <tr>\n",
              "      <th>0</th>\n",
              "      <td>2019-02-26 09:00:01</td>\n",
              "      <td>Управление памятью в Python</td>\n",
              "      <td><a href=\"https://habr.com/ru/company/ruvds/blog/441568/\" target=\"_blank\">https://habr.com/ru/company/ruvds/blog/441568/</a></td>\n",
              "      <td>Задумывались ли вы когда-нибудь о том, как данные, с которыми вы работаете, выглядят в недрах Python? О том, как переменные создаются и хранятся в памяти? О том, как и когда они удаляются? Материал, перевод которого мы публикуем, посвящён исследованиям глу</td>\n",
              "      <td>26</td>\n",
              "      <td>3</td>\n",
              "    </tr>\n",
              "    <tr>\n",
              "      <th>1</th>\n",
              "      <td>2013-02-17 13:37:02</td>\n",
              "      <td>Путешествие исключений между C++ и Python или «Туда и обратно»</td>\n",
              "      <td><a href=\"https://habr.com/ru/post/169639/\" target=\"_blank\">https://habr.com/ru/post/169639/</a></td>\n",
              "      <td>В этой главе сказа про дружбу C++ и Python будет на удивление мало использования Boost.Python. Передача исключений туда и обратно является по сути слабым местом данной библиотеки. Будем обходиться родным API языка Python, а где это возможно использовать Bo</td>\n",
              "      <td>36</td>\n",
              "      <td>1</td>\n",
              "    </tr>\n",
              "    <tr>\n",
              "      <th>2</th>\n",
              "      <td>2019-10-11 11:18:06</td>\n",
              "      <td>Python vs JavaScript: Which One Can Benefit You The Most?</td>\n",
              "      <td><a href=\"https://habr.com/ru/post/471134/\" target=\"_blank\">https://habr.com/ru/post/471134/</a></td>\n",
              "      <td>The web development arena is moving at a fast pace and has reached an advanced stage today. Python and Javascript making some significant contributions for almost three decades. Now, being a developer or a business if you are planning to pick one of the</td>\n",
              "      <td>10</td>\n",
              "      <td>2</td>\n",
              "    </tr>\n",
              "    <tr>\n",
              "      <th>3</th>\n",
              "      <td>2019-06-27 14:03:20</td>\n",
              "      <td>Что я узнал про оптимизацию в Python</td>\n",
              "      <td><a href=\"https://habr.com/ru/company/otus/blog/457942/\" target=\"_blank\">https://habr.com/ru/company/otus/blog/457942/</a></td>\n",
              "      <td>Всем привет. Сегодня хотим поделиться еще одним переводом подготовленным в преддверии запуска курса «Разработчик Python». Поехали!\n",
              "\n",
              "\n",
              "\r\n",
              "Я использовал Python чаще, чем любой другой язык программирования в последние 4-5 лет. Python – преобладающий язык для би</td>\n",
              "      <td>21</td>\n",
              "      <td>2</td>\n",
              "    </tr>\n",
              "    <tr>\n",
              "      <th>4</th>\n",
              "      <td>2019-04-24 09:25:59</td>\n",
              "      <td>Изюминки прошедшей Moscow Python Conf++ 2019: трансформация в площадку для общения</td>\n",
              "      <td><a href=\"https://habr.com/ru/company/oleg-bunin/blog/449200/\" target=\"_blank\">https://habr.com/ru/company/oleg-bunin/blog/449200/</a></td>\n",
              "      <td>Самыми горячими темами Moscow Python Conf++ оказались асинхронная разработка, а также сопоставление Python, его лучших практик и инструментария с аналогами из других языков, и его место в ландшафте современной разработки. Плюс мы пригласили выступить Бендж</td>\n",
              "      <td>19</td>\n",
              "      <td>0</td>\n",
              "    </tr>\n",
              "    <tr>\n",
              "      <th>5</th>\n",
              "      <td>2013-02-06 11:42:41</td>\n",
              "      <td>Объединяя C++ и Python. Тонкости Boost.Python. Часть вторая</td>\n",
              "      <td><a href=\"https://habr.com/ru/post/168233/\" target=\"_blank\">https://habr.com/ru/post/168233/</a></td>\n",
              "      <td>Данная статья является продолжением первой части.\r\n",
              "Продолжаем мучить Boost.Python. В этот раз настала очередь класса, который нельзя ни создать, ни скопировать.\r\n",
              "Обернём почти обычную сишную структуру с необычным конструктором. \r\n",
              "И поработаем с возвращение</td>\n",
              "      <td>39</td>\n",
              "      <td>1</td>\n",
              "    </tr>\n",
              "    <tr>\n",
              "      <th>6</th>\n",
              "      <td>2013-02-10 08:24:48</td>\n",
              "      <td>Конвертация типов в Boost.Python. Делаем преобразование между привычными типами C++ и Python</td>\n",
              "      <td><a href=\"https://habr.com/ru/post/168827/\" target=\"_blank\">https://habr.com/ru/post/168827/</a></td>\n",
              "      <td>Данная статья не является продолжением повествования об обёртках C++ API. Никаких обёрток сегодня не будет. Хотя по логике это третья часть данного повествования.\r\n",
              "Сегодня будет море крови, расчленение существующих типов и магическое превращение их в привы</td>\n",
              "      <td>24</td>\n",
              "      <td>1</td>\n",
              "    </tr>\n",
              "    <tr>\n",
              "      <th>7</th>\n",
              "      <td>2021-09-22 05:03:44</td>\n",
              "      <td>Открытый вебинар «The Python Packaging»</td>\n",
              "      <td><a href=\"https://habr.com/ru/news/t/579264/\" target=\"_blank\">https://habr.com/ru/news/t/579264/</a></td>\n",
              "      <td>23 сентября в 16:30 в рамках цикла открытых технических семинаров компании Xperience AI с докладом выступит Григорий Серебряков (CTO, Xperience AI). Тема доклада - The Python packaging.\"The Python packaging has a reputation of a somewhat black box from the</td>\n",
              "      <td>3</td>\n",
              "      <td>0</td>\n",
              "    </tr>\n",
              "    <tr>\n",
              "      <th>8</th>\n",
              "      <td>2020-04-03 09:48:57</td>\n",
              "      <td>Создание Python-обвязки для библиотек, написанных на C/C++, с помощью SIP. Часть 1</td>\n",
              "      <td><a href=\"https://habr.com/ru/post/495480/\" target=\"_blank\">https://habr.com/ru/post/495480/</a></td>\n",
              "      <td>Иногда во время работы над проектом на языке Python возникает желание использовать библиотеку, которая написана не на Python, а, например, на C или C++. Причины для этого могут быть разные Во-первых, Python — язык замечательный, но в некоторых ситуациях не</td>\n",
              "      <td>8</td>\n",
              "      <td>0</td>\n",
              "    </tr>\n",
              "    <tr>\n",
              "      <th>9</th>\n",
              "      <td>2019-06-12 06:53:21</td>\n",
              "      <td>Объектно-ориентированное программирование в Java и Python: сходства и отличия</td>\n",
              "      <td><a href=\"https://habr.com/ru/post/455796/\" target=\"_blank\">https://habr.com/ru/post/455796/</a></td>\n",
              "      <td>Привет, Хабр! Представляю вашему вниманию перевод статьи “Object-Oriented Programming in Python vs Java” автора Джона Финчера.\n",
              "Реализация объектно-ориентированного программирования (ООП) в языках Java и Python отличается. Принцип работы с объектами, типами</td>\n",
              "      <td>21</td>\n",
              "      <td>2</td>\n",
              "    </tr>\n",
              "  </tbody>\n",
              "</table>"
            ]
          },
          "metadata": {}
        }
      ]
    }
  ],
  "metadata": {
    "kernelspec": {
      "display_name": "Python 3 (ipykernel)",
      "language": "python",
      "name": "python3"
    },
    "language_info": {
      "codemirror_mode": {
        "name": "ipython",
        "version": 3
      },
      "file_extension": ".py",
      "mimetype": "text/x-python",
      "name": "python",
      "nbconvert_exporter": "python",
      "pygments_lexer": "ipython3",
      "version": "3.10.6"
    },
    "vscode": {
      "interpreter": {
        "hash": "9650cb4e16cdd4a8e8e2d128bf38d875813998db22a3c986335f89e0cb4d7bb2"
      }
    },
    "colab": {
      "name": "5. Основы веб-скрапинга.ipynb",
      "provenance": [],
      "collapsed_sections": []
    }
  },
  "nbformat": 4,
  "nbformat_minor": 0
}