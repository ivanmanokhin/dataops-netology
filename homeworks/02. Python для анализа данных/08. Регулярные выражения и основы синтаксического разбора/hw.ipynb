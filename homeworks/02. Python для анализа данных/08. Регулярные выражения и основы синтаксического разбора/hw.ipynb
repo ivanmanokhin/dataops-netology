{
 "cells": [
  {
   "cell_type": "markdown",
   "metadata": {},
   "source": [
    "## Домашнее задание по теме: \"Регулярные выражения и основы синтаксического разбора\""
   ]
  },
  {
   "cell_type": "code",
   "execution_count": 57,
   "metadata": {},
   "outputs": [],
   "source": [
    "import re"
   ]
  },
  {
   "cell_type": "markdown",
   "metadata": {},
   "source": [
    "### Задание 1  \n",
    "Напишите функцию, которая принимает на вход строку и проверяет является ли она  \n",
    "валидным транспортным номером (1 буква, 3 цифры, 2 буквы, 2-3 цифры). Обратите внимание,  \n",
    "что не все буквы кириллического алфавита используются в транспортных номерах.  \n",
    "Если номер валиден, то функция должна возвращать отдельно номер и регион."
   ]
  },
  {
   "cell_type": "code",
   "execution_count": 974,
   "metadata": {},
   "outputs": [
    {
     "name": "stdout",
     "output_type": "stream",
     "text": [
      "Номер: А555АА валиден. Регион: 55\n"
     ]
    }
   ],
   "source": [
    "def car_id_validation(car_id):\n",
    "    pattern = re.compile('([АВЕКМНОРСТУХABEKMHOPCTYX]\\d{3}[АВЕКМНОРСТУХABEKMHOPCTYX]{2})(\\d{2,3})')\n",
    "    if pattern.match(car_id.upper()) != None:\n",
    "        num, reg = re.findall(pattern, car_id.upper())[0]\n",
    "        print(f'Номер: {num} валиден. Регион: {reg}')\n",
    "    else:\n",
    "        print(f'Номер: {car_id} не валиден')\n",
    "\n",
    "car_id_validation(input('Введите номер автомобиля: '))\n"
   ]
  },
  {
   "cell_type": "markdown",
   "metadata": {},
   "source": [
    "### Задание 2  \n",
    "Напишите функцию, которая будет удалять все последовательные повторы слов  \n",
    "из заданной строки при помощи регулярных выражений."
   ]
  },
  {
   "cell_type": "code",
   "execution_count": 1299,
   "metadata": {},
   "outputs": [
    {
     "data": {
      "text/plain": [
       "'Напишите функцию, которая будет удалять все последовательные повторы слов из python заданной строки при помощи регулярных выражений.'"
      ]
     },
     "execution_count": 1299,
     "metadata": {},
     "output_type": "execute_result"
    }
   ],
   "source": [
    "some_string = 'Напишите напишите функцию функцию, которая будет будет будет \\\n",
    "будет удалять все все все все последовательные повторы слов из из из из python \\\n",
    "python заданной строки строки при помощи регулярных выражений выражений.'\n",
    "\n",
    "def remove_duplicates(_str):\n",
    "    return re.sub(r'([а-яёa-z]\\w*)(\\s+\\1)+', r'\\1', _str, flags=re.IGNORECASE)\n",
    "\n",
    "remove_duplicates(some_string)\n"
   ]
  },
  {
   "cell_type": "markdown",
   "metadata": {},
   "source": []
  },
  {
   "cell_type": "markdown",
   "metadata": {},
   "source": [
    "### Задание 3  \n",
    "Напишите функцию, которая будет возвращать акроним по переданной в нее строке со словами."
   ]
  },
  {
   "cell_type": "code",
   "execution_count": 1302,
   "metadata": {},
   "outputs": [
    {
     "data": {
      "text/plain": [
       "'NFC'"
      ]
     },
     "execution_count": 1302,
     "metadata": {},
     "output_type": "execute_result"
    }
   ],
   "source": [
    "some_words = 'Near Field Communication'\n",
    "\n",
    "def acronym(_str):\n",
    "    return re.sub('([а-яёА-ЯЁ]|[a-zA-Z])(\\w+)|(\\s+)', r'\\1', _str.upper())\n",
    "\n",
    "acronym(some_words)\n"
   ]
  },
  {
   "cell_type": "markdown",
   "metadata": {},
   "source": [
    "### Задание 4  \n",
    "Напишите функцию, которая будет принимать на вход список email-адресов  \n",
    "и выводить их распределение по доменным зонам."
   ]
  },
  {
   "cell_type": "code",
   "execution_count": 1306,
   "metadata": {},
   "outputs": [
    {
     "name": "stdout",
     "output_type": "stream",
     "text": [
      "gmail.com: 2\n",
      "test.in: 1\n",
      "ya.ru: 2\n",
      "mail.ru: 1\n"
     ]
    }
   ],
   "source": [
    "from collections import Counter\n",
    "\n",
    "emails = ['test@gmail.com', 'xyz@test.in', 'test@ya.ru', 'xyz@mail.ru', 'xyz@ya.ru', 'xyz@gmail.com']\n",
    "\n",
    "def domain_stat(_list):\n",
    "    _dict = dict(Counter(map(lambda mail:re.sub(r'(.+@)(.+)', r'\\2', mail),_list)))\n",
    "    for key, value in _dict.items():\n",
    "        print(f'{key}: {value}')\n",
    "\n",
    "domain_stat(emails)\n"
   ]
  },
  {
   "cell_type": "markdown",
   "metadata": {},
   "source": [
    "### Задание 5 (необязательное)  \n",
    "Напишите функцию, которая будет подсчитывать сколько слов начинается на гласные, а  \n",
    "сколько на согласные буквы в тексте (текст может быть написан как с использованием  \n",
    "букв кириллицы, так и латиницы)."
   ]
  },
  {
   "cell_type": "code",
   "execution_count": 1322,
   "metadata": {},
   "outputs": [
    {
     "name": "stdout",
     "output_type": "stream",
     "text": [
      "Слов на гласные буквы: 9\n",
      "Слов на согласные буквы: 21\n"
     ]
    }
   ],
   "source": [
    "some_text = 'Эталонной реализацией Python является интерпретатор CPython, \\\n",
    "поддерживающий большинство активно используемых платформ. Он распространяется \\\n",
    "под свободной лицензией Python Software  Foundation License, позволяющей использовать \\\n",
    "его без ограничений в любых приложениях, включая проприетарные.'\n",
    "\n",
    "def first_letter(_str):\n",
    "    vowels_count = len(re.findall(r'(^|\\s)([ауоиэыяюеё]|[aeiouy]\\w*)', _str, re.IGNORECASE))\n",
    "    consonants_count = len(re.findall(r'(^|\\s)([бвгджзйклмнпрстфхцчшщ]|[bcdfghjklmnpqrstvwxyz]\\w*)', _str, re.IGNORECASE))\n",
    "    print(f'Слов на гласные буквы: {vowels_count}')\n",
    "    print(f'Слов на согласные буквы: {consonants_count}')\n",
    "\n",
    "first_letter(some_text)\n"
   ]
  },
  {
   "cell_type": "markdown",
   "metadata": {},
   "source": [
    "### Задание 6 (необязательное)  \n",
    "Напишите функцию, которая будет проверять номер сотового телефона на  \n",
    "валидность (только для российского формата), если он валиден, то переводить  \n",
    "его в формат: +7-xxx-xxx-xx-xx"
   ]
  },
  {
   "cell_type": "code",
   "execution_count": 1324,
   "metadata": {},
   "outputs": [
    {
     "name": "stdout",
     "output_type": "stream",
     "text": [
      "+7-(955)-555-55-55\n",
      "+7-(955)-555-55-55\n",
      "+7-(955)-555-55-55\n",
      "+7-(955)-555-55-55\n",
      "Номер не валиден\n",
      "Номер не валиден\n"
     ]
    }
   ],
   "source": [
    "phone_list = ['+7 955 555-55-55 ', '8(955)555-55-55', '+7 955 555 55 55', '7(955) 555-55-55', '423-555-55-5555', '123-456-789']\n",
    "\n",
    "def phone_validation(_list):\n",
    "    pattern = re.compile('(\\+?\\W*7|8?)\\W*(\\d{3})\\W*(\\d{3})\\W*(\\d{2})\\W*(\\d{2})\\s*$')\n",
    "    for el in _list:\n",
    "        if pattern.match(el): \n",
    "            print(re.sub(pattern, r'+7-(\\2)-\\3-\\4-\\5', el))\n",
    "        else:\n",
    "            print('Номер не валиден')\n",
    "        \n",
    "phone_validation(phone_list)\n"
   ]
  }
 ],
 "metadata": {
  "kernelspec": {
   "display_name": "Python 3.8.10 64-bit",
   "language": "python",
   "name": "python3"
  },
  "language_info": {
   "codemirror_mode": {
    "name": "ipython",
    "version": 3
   },
   "file_extension": ".py",
   "mimetype": "text/x-python",
   "name": "python",
   "nbconvert_exporter": "python",
   "pygments_lexer": "ipython3",
   "version": "3.8.10"
  },
  "orig_nbformat": 4,
  "vscode": {
   "interpreter": {
    "hash": "9650cb4e16cdd4a8e8e2d128bf38d875813998db22a3c986335f89e0cb4d7bb2"
   }
  }
 },
 "nbformat": 4,
 "nbformat_minor": 2
}
