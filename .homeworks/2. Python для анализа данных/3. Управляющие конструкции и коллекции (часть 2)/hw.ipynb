{
  "cells": [
    {
      "cell_type": "markdown",
      "metadata": {
        "id": "Jt9wmYXoIfwQ"
      },
      "source": [
        "## Домашнее задание по теме: \"Управляющие конструкции и коллекции (часть 2)\""
      ]
    },
    {
      "cell_type": "markdown",
      "metadata": {},
      "source": [
        "### Задание 1  \n",
        "Дана переменная, в которой хранится словарь, содержащий гео-метки для каждого  \n",
        "пользователя (пример структуры данных приведен ниже). Вам необходимо написать  \n",
        "программу, которая выведет на экран множество уникальных гео-меток всех пользователей."
      ]
    },
    {
      "cell_type": "code",
      "execution_count": 1,
      "metadata": {
        "colab": {
          "base_uri": "https://localhost:8080/"
        },
        "id": "qaEYAKHYIhfb",
        "outputId": "d031789b-aef7-4930-c007-4a218b2c89c6"
      },
      "outputs": [
        {
          "name": "stdout",
          "output_type": "stream",
          "text": [
            "{98, 35, 213, 54, 119, 15}\n"
          ]
        }
      ],
      "source": [
        "ids = {'user1': [213, 213, 213, 15, 213],\n",
        "       'user2': [54, 54, 119, 119, 119],\n",
        "       'user3': [213, 98, 98, 35]}\n",
        "\n",
        "ids_set = set()\n",
        "[ids_set.update(set(item)) for item in ids.values()]\n",
        "print(ids_set)\n"
      ]
    },
    {
      "cell_type": "code",
      "execution_count": 2,
      "metadata": {},
      "outputs": [
        {
          "name": "stdout",
          "output_type": "stream",
          "text": [
            "{98, 35, 15, 213, 54, 119}\n"
          ]
        }
      ],
      "source": [
        "# или так\n",
        "print(set(sum(ids.values(), [])))\n"
      ]
    },
    {
      "cell_type": "markdown",
      "metadata": {
        "id": "NVEF8chhX0j9"
      },
      "source": [
        "### Задание 2  \n",
        "Дана переменная, в которой хранится список поисковых запросов пользователя  \n",
        "(пример структуры данных приведен ниже). Вам необходимо написать программу,  \n",
        "которая выведет на экран распределение количества слов в запросах в требуемом виде."
      ]
    },
    {
      "cell_type": "code",
      "execution_count": 3,
      "metadata": {
        "colab": {
          "base_uri": "https://localhost:8080/"
        },
        "id": "KT3DupXyX3Y9",
        "outputId": "25351af2-8519-45b9-e421-4c24be69e54d"
      },
      "outputs": [
        {
          "name": "stdout",
          "output_type": "stream",
          "text": [
            "Поисковых запросов, содержащих 2 слов(а):  42.86%\n",
            "Поисковых запросов, содержащих 3 слов(а):  57.14%\n"
          ]
        }
      ],
      "source": [
        "queries = [\n",
        "    'смотреть сериалы онлайн',\n",
        "    'новости спорта',\n",
        "    'афиша кино',\n",
        "    'курс доллара',\n",
        "    'сериалы этим летом',\n",
        "    'курс по питону',\n",
        "    'сериалы про спорт',\n",
        "]\n",
        "\n",
        "query_len = [len(query.split()) for query in queries]\n",
        "\n",
        "for value in set(query_len):\n",
        "    print(f'Поисковых запросов, содержащих {value} слов(а):', end=' ')\n",
        "    print(f'{query_len.count(value) / len(query_len): .2%}')\n"
      ]
    },
    {
      "cell_type": "markdown",
      "metadata": {
        "id": "Yoo4INiqrDL1"
      },
      "source": [
        "### Задание 3  \n",
        "Дана переменная, в которой хранится информация о затратах и доходе рекламных  \n",
        "кампаний по различным источникам. Необходимо дополнить исходную структуру  \n",
        "показателем ![ROI](https://ru.wikipedia.org/wiki/Окупаемость_инвестиций), который  \n",
        "рассчитаем по формуле: **(revenue / cost - 1) * 100**"
      ]
    },
    {
      "cell_type": "code",
      "execution_count": 4,
      "metadata": {
        "colab": {
          "base_uri": "https://localhost:8080/"
        },
        "id": "B-ocZR-1rFrd",
        "outputId": "37563c9b-251e-4ebe-8826-718a33900ba4"
      },
      "outputs": [
        {
          "data": {
            "text/plain": [
              "{'vk': {'revenue': 103, 'cost': 98, 'ROI': 5.1},\n",
              " 'yandex': {'revenue': 179, 'cost': 153, 'ROI': 16.99},\n",
              " 'facebook': {'revenue': 103, 'cost': 110, 'ROI': -6.36},\n",
              " 'adwords': {'revenue': 35, 'cost': 34, 'ROI': 2.94},\n",
              " 'twitter': {'revenue': 11, 'cost': 24, 'ROI': -54.17}}"
            ]
          },
          "execution_count": 4,
          "metadata": {},
          "output_type": "execute_result"
        }
      ],
      "source": [
        "results = {\n",
        "    'vk': {'revenue': 103, 'cost': 98},\n",
        "    'yandex': {'revenue': 179, 'cost': 153},\n",
        "    'facebook': {'revenue': 103, 'cost': 110},\n",
        "    'adwords': {'revenue': 35, 'cost': 34},\n",
        "    'twitter': {'revenue': 11, 'cost': 24},\n",
        "}\n",
        "\n",
        "for value in results.values():\n",
        "    value['ROI'] = round((value['revenue'] / value['cost'] - 1) * 100, 2)\n",
        "\n",
        "results\n"
      ]
    },
    {
      "cell_type": "markdown",
      "metadata": {
        "id": "-LZj9rtAwEdZ"
      },
      "source": [
        "### Задание 4  \n",
        "Дана переменная, в которой хранится статистика рекламных каналов по объемам продаж  \n",
        "(пример структуры данных приведен ниже). Напишите программу, которая возвращает  \n",
        "название канала с максимальным объемом продаж."
      ]
    },
    {
      "cell_type": "code",
      "execution_count": 5,
      "metadata": {
        "colab": {
          "base_uri": "https://localhost:8080/"
        },
        "id": "yUonHmL3wHMI",
        "outputId": "deb19974-dc97-4ff6-c15a-ba93baa1ad26"
      },
      "outputs": [
        {
          "name": "stdout",
          "output_type": "stream",
          "text": [
            "Максимальный объем продаж на рекламном канале: vk\n"
          ]
        }
      ],
      "source": [
        "stats = {'facebook': 55,\n",
        "         'yandex': 115,\n",
        "         'vk': 120,\n",
        "         'google': 99,\n",
        "         'email': 42,\n",
        "         'ok': 98}\n",
        "\n",
        "print('Максимальный объем продаж на рекламном канале:', end=' ')\n",
        "print(f'{max(stats, key=stats.get)}')\n"
      ]
    },
    {
      "cell_type": "markdown",
      "metadata": {
        "id": "IJ1lLXBSx98x"
      },
      "source": [
        "### Задание 5 (необязательно)  \n",
        "Дан список произвольной длины. Необходимо написать код, который на основе  \n",
        "исходного списка составит словарь такого уровня вложенности, какова длина исходного списка."
      ]
    },
    {
      "cell_type": "code",
      "execution_count": 6,
      "metadata": {
        "colab": {
          "base_uri": "https://localhost:8080/"
        },
        "id": "-iew5Ft1yAMG",
        "outputId": "be8d4850-86e5-40ee-8f87-e052c8784d7e"
      },
      "outputs": [
        {
          "name": "stdout",
          "output_type": "stream",
          "text": [
            "{'a': {'b': {'c': {'d': {'e': 'f'}}}}}\n"
          ]
        }
      ],
      "source": [
        "my_list = ['a', 'b', 'c', 'd', 'e', 'f']\n",
        "\n",
        "my_dict = my_list.pop()\n",
        "while my_list:\n",
        "    my_dict = {my_list.pop(): my_dict}\n",
        "\n",
        "print(my_dict)\n"
      ]
    },
    {
      "cell_type": "markdown",
      "metadata": {
        "id": "cQAleeWf6Fny"
      },
      "source": [
        "### Задание 6 (необязательно)  \n",
        "Дана книга рецептов с информацией о том, сколько ингредиентов нужно для  \n",
        "приготовления блюда в расчете на одну порцию (пример данных представлен ниже).  \n",
        "Напишите программу, которая будет запрашивать у пользователя количество порций для  \n",
        "приготовления этих блюд и отображать информацию о суммарном количестве требуемых  \n",
        "ингредиентов в указанном виде.  \n",
        "Внимание! Одинаковые ингридиенты с разными размерностями нужно считать раздельно!"
      ]
    },
    {
      "cell_type": "code",
      "execution_count": 7,
      "metadata": {
        "colab": {
          "base_uri": "https://localhost:8080/"
        },
        "id": "CLo8Uili6G04",
        "outputId": "1a5c2cd8-7216-4408-93b7-1b116ee68b55"
      },
      "outputs": [
        {
          "name": "stdout",
          "output_type": "stream",
          "text": [
            "\n",
            "Требуемое количество ингредиентов:\n",
            "Сыр: 350 гр\n",
            "Томаты: 110 гр\n",
            "Огурцы: 100 гр\n",
            "Маслины: 50 гр\n",
            "Оливковое масло: 100 мл\n",
            "Салат: 50 гр\n",
            "Перец: 100 гр\n",
            "Колбаса: 150 гр\n",
            "Бекон: 150 гр\n",
            "Оливки: 50 гр\n",
            "Тесто: 500 гр\n",
            "Лимон: 5 шт\n",
            "Вода: 1000 мл\n",
            "Сахар: 50 гр\n",
            "Лайм: 100 гр\n"
          ]
        }
      ],
      "source": [
        "cook_book = {\n",
        "  'салат': [\n",
        "     {'ingridient_name': 'сыр', 'quantity': 50, 'measure': 'гр'},\n",
        "     {'ingridient_name': 'томаты', 'quantity': 2, 'measure': 'шт'},\n",
        "     {'ingridient_name': 'огурцы', 'quantity': 20, 'measure': 'гр'},\n",
        "     {'ingridient_name': 'маслины', 'quantity': 10, 'measure': 'гр'},\n",
        "     {'ingridient_name': 'оливковое масло', 'quantity': 20, 'measure': 'мл'},\n",
        "     {'ingridient_name': 'салат', 'quantity': 10, 'measure': 'гр'},\n",
        "     {'ingridient_name': 'перец', 'quantity': 20, 'measure': 'гр'},\n",
        "    ],\n",
        "  'пицца': [\n",
        "     {'ingridient_name': 'сыр', 'quantity': 20, 'measure': 'гр'},\n",
        "     {'ingridient_name': 'колбаса', 'quantity': 30, 'measure': 'гр'},\n",
        "     {'ingridient_name': 'бекон', 'quantity': 30, 'measure': 'гр'},\n",
        "     {'ingridient_name': 'оливки', 'quantity': 10, 'measure': 'гр'},\n",
        "     {'ingridient_name': 'томаты', 'quantity': 20, 'measure': 'гр'},\n",
        "     {'ingridient_name': 'тесто', 'quantity': 100, 'measure': 'гр'},\n",
        "    ],\n",
        "  'лимонад': [\n",
        "     {'ingridient_name': 'лимон', 'quantity': 1, 'measure': 'шт'},\n",
        "     {'ingridient_name': 'вода', 'quantity': 200, 'measure': 'мл'},\n",
        "     {'ingridient_name': 'сахар', 'quantity': 10, 'measure': 'гр'},\n",
        "     {'ingridient_name': 'лайм', 'quantity': 20, 'measure': 'гр'},\n",
        "    ]\n",
        "}\n",
        "\n",
        "amount = int(input('Введите количество порций: '))\n",
        "\n",
        "ingredients = {}\n",
        "for dish in cook_book.values():\n",
        "    for ingredient in dish:\n",
        "        ingredients.setdefault(ingredient['ingridient_name'], [0, ''])\n",
        "        ingredients[ingredient['ingridient_name']][0] += ingredient['quantity'] * amount\n",
        "        ingredients[ingredient['ingridient_name']][1] = ingredient['measure']\n",
        "\n",
        "print('\\nТребуемое количество ингредиентов:')\n",
        "for key, value in ingredients.items():\n",
        "    print(f'{key.capitalize()}: {value[0]} {value[1]}')\n"
      ]
    },
    {
      "cell_type": "code",
      "execution_count": 8,
      "metadata": {},
      "outputs": [
        {
          "name": "stdout",
          "output_type": "stream",
          "text": [
            "сыр: 350 гр\n",
            "томаты: 10 шт\n",
            "огурцы: 100 гр\n",
            "маслины: 50 гр\n",
            "оливковое масло: 100 мл\n",
            "салат: 50 гр\n",
            "перец: 100 гр\n",
            "колбаса: 150 гр\n",
            "бекон: 150 гр\n",
            "оливки: 50 гр\n",
            "томаты: 100 гр\n",
            "тесто: 500 гр\n",
            "лимон: 5 шт\n",
            "вода: 1000 мл\n",
            "сахар: 50 гр\n",
            "лайм: 100 гр\n"
          ]
        }
      ],
      "source": [
        "# исправление к прошлому блоку\n",
        "person = 5\n",
        "shop_dict = {}\n",
        "for dish in cook_book.values():\n",
        "    for ingr in dish:\n",
        "        key = (ingr['ingridient_name'], ingr['measure'])\n",
        "        if key not in shop_dict:\n",
        "            shop_dict[key] = ingr['quantity'] * person\n",
        "        else:\n",
        "            shop_dict[key] += ingr['quantity'] * person\n",
        "\n",
        "for name, q in shop_dict.items():\n",
        "    print(f'{name[0]}: {q} {name[1]}')\n"
      ]
    }
  ],
  "metadata": {
    "colab": {
      "collapsed_sections": [],
      "name": "Домашнее задание по теме \"Введение в типы данных и циклы. Часть 2\".ipynb",
      "provenance": []
    },
    "kernelspec": {
      "display_name": "Python 3.8.10 64-bit",
      "language": "python",
      "name": "python3"
    },
    "language_info": {
      "codemirror_mode": {
        "name": "ipython",
        "version": 3
      },
      "file_extension": ".py",
      "mimetype": "text/x-python",
      "name": "python",
      "nbconvert_exporter": "python",
      "pygments_lexer": "ipython3",
      "version": "3.8.10"
    },
    "vscode": {
      "interpreter": {
        "hash": "9650cb4e16cdd4a8e8e2d128bf38d875813998db22a3c986335f89e0cb4d7bb2"
      }
    }
  },
  "nbformat": 4,
  "nbformat_minor": 0
}
