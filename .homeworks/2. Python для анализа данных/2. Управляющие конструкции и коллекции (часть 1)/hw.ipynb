{
  "cells": [
    {
      "cell_type": "markdown",
      "metadata": {
        "id": "6aTPShdoVQLx"
      },
      "source": [
        "## Домашнее задание по теме: \"Управляющие конструкции и коллекции (часть 1)\""
      ]
    },
    {
      "cell_type": "markdown",
      "metadata": {},
      "source": [
        "### Задание 1  \n",
        "Дана переменная, в которой хранится слово из латинских букв.  \n",
        "Напишите код, который выводит на экран:  \n",
        "* среднюю букву, если число букв в слове нечетное;  \n",
        "* две средних буквы, если число букв четное."
      ]
    },
    {
      "cell_type": "code",
      "execution_count": 1,
      "metadata": {
        "colab": {
          "base_uri": "https://localhost:8080/"
        },
        "id": "Y7j1Rx3lVThA",
        "outputId": "c1aaeb6f-5e4e-472e-b081-0e1e83911791"
      },
      "outputs": [
        {
          "name": "stdout",
          "output_type": "stream",
          "text": [
            "es\n"
          ]
        }
      ],
      "source": [
        "word = 'test'\n",
        "\n",
        "if len(word) % 2 == 0:\n",
        "    print(word[len(word) // 2 - 1:len(word) // 2 + 1])\n",
        "else:\n",
        "    print(word[len(word) // 2])"
      ]
    },
    {
      "cell_type": "markdown",
      "metadata": {
        "id": "-3HkLt_UVXK-"
      },
      "source": [
        "### Задание 2  \n",
        "Напишите программу, которая последовательно запрашивает у пользователя  \n",
        "числа (по одному за раз) и после первого нуля выводит сумму всех ранее введенных чисел."
      ]
    },
    {
      "cell_type": "code",
      "execution_count": null,
      "metadata": {
        "colab": {
          "base_uri": "https://localhost:8080/"
        },
        "id": "rPPlZTlVVYsL",
        "outputId": "c0d42ad5-a6a5-4f81-e2ed-af10d3cc17a9"
      },
      "outputs": [
        {
          "name": "stdout",
          "output_type": "stream",
          "text": [
            "Введите число: 2\n",
            "Введите число: 3\n",
            "Введите число: 4\n",
            "Введите число: 0\n",
            "Результат: 9\n"
          ]
        }
      ],
      "source": [
        "x = int(input('Введите число: '))\n",
        "y = 0\n",
        "\n",
        "while x != 0:\n",
        "    y += x\n",
        "    x = int(input('Введите число: '))\n",
        "\n",
        "print(f'Результат: {y}')"
      ]
    },
    {
      "cell_type": "markdown",
      "metadata": {
        "id": "B2EcofyZWWK6"
      },
      "source": [
        "### Задание 3  \n",
        "Мы делаем MVP dating-сервиса, и у нас есть список парней и девушек.  \n",
        "Выдвигаем гипотезу: лучшие рекомендации мы получим, если просто отсортируем  \n",
        "имена по алфавиту и познакомим людей с одинаковыми индексами после сортировки!  \n",
        "Но мы не будем никого знакомить, если кто-то может остаться без пары."
      ]
    },
    {
      "cell_type": "code",
      "execution_count": null,
      "metadata": {
        "colab": {
          "base_uri": "https://localhost:8080/"
        },
        "id": "Cs81dYU6WZiU",
        "outputId": "38558ade-46b4-4055-920b-14272f5bd96b"
      },
      "outputs": [
        {
          "name": "stdout",
          "output_type": "stream",
          "text": [
            "Идеальные пары:\n",
            "Peter и Kate\n",
            "Alex и Liza\n",
            "John и Kira\n",
            "Arthur и Emma\n",
            "Richard и Trisha\n"
          ]
        }
      ],
      "source": [
        "boys = ['Peter', 'Alex', 'John', 'Arthur', 'Richard']\n",
        "girls = ['Kate', 'Liza', 'Kira', 'Emma', 'Trisha']\n",
        "\n",
        "if len(boys) == len(girls):\n",
        "    couple = zip(boys, girls)\n",
        "    print('Идеальные пары:')\n",
        "    for boy, girl in list(couple):\n",
        "        print(f'{boy} и {girl}')\n",
        "else:\n",
        "    print('Внимание, кто-то может остаться без пары!')"
      ]
    },
    {
      "cell_type": "markdown",
      "metadata": {
        "id": "7wHa7Av4XwxZ"
      },
      "source": [
        "### Задание 4  \n",
        "У нас есть список, содержащий информацию о среднедневной температуре  \n",
        "в Фаренгейтах за произвольный период по странам (структура данных в примере).  \n",
        "Необходимо написать код, который рассчитает среднюю температуру за период в Цельсиях(!) для каждой страны."
      ]
    },
    {
      "cell_type": "code",
      "execution_count": null,
      "metadata": {
        "colab": {
          "base_uri": "https://localhost:8080/"
        },
        "id": "0Dwz9d5bXy_C",
        "outputId": "c6c5797e-116e-471b-9ecf-9893f8c7c915"
      },
      "outputs": [
        {
          "name": "stdout",
          "output_type": "stream",
          "text": [
            "Средняя температура в странах:\n",
            "Thailand - 23.9\n",
            "Germany - 13.8\n",
            "Russia - 3.7\n",
            "Poland - 12.0\n"
          ]
        }
      ],
      "source": [
        "countries_temperature = [\n",
        "    ['Thailand', [75.2, 77, 78.8, 73.4, 68, 75.2, 77]],\n",
        "    ['Germany', [57.2, 55.4, 59, 59, 53.6]],\n",
        "    ['Russia', [35.6, 37.4, 39.2, 41, 42.8, 39.2, 35.6]],\n",
        "    ['Poland', [50, 50, 53.6, 57.2, 55.4, 55.4]]\n",
        "]\n",
        "\n",
        "print('Средняя температура в странах:')\n",
        "for country, temp in countries_temperature:\n",
        "    print(f'{country} - {round((sum(temp) / len(temp) - 32) / 1.8, 1)}')"
      ]
    },
    {
      "cell_type": "markdown",
      "metadata": {
        "id": "zSDQ3b5QZQo_"
      },
      "source": [
        "### Задание 5 (необязательное)  \n",
        "Дан поток логов по количеству просмотренных страниц для каждого пользователя.  \n",
        "Вам необходимо написать алгоритм, который считает среднее значение просмотров на пользователя.  \n",
        "Т. е. надо посчитать отношение суммы всех просмотров к количеству уникальных пользователей."
      ]
    },
    {
      "cell_type": "code",
      "execution_count": null,
      "metadata": {
        "colab": {
          "base_uri": "https://localhost:8080/"
        },
        "id": "tcnTFB_zZSbk",
        "outputId": "deaefafb-8ad3-4115-9c15-0fe3d5ce9e2e"
      },
      "outputs": [
        {
          "name": "stdout",
          "output_type": "stream",
          "text": [
            "Среднее количество просмотров на уникального пользователя: 23.25\n"
          ]
        }
      ],
      "source": [
        "stream = [\n",
        "    '2018-01-01,user1,3',\n",
        "    '2018-01-07,user1,4',\n",
        "    '2018-03-29,user1,1',\n",
        "    '2018-04-04,user1,13',\n",
        "    '2018-01-05,user2,7',\n",
        "    '2018-06-14,user3,4',\n",
        "    '2018-07-02,user3,10',\n",
        "    '2018-03-21,user4,19',\n",
        "    '2018-03-22,user4,4',\n",
        "    '2018-04-22,user4,8',\n",
        "    '2018-05-03,user4,9',\n",
        "    '2018-05-11,user4,11',\n",
        "]\n",
        "\n",
        "date = []\n",
        "users = []\n",
        "views = []\n",
        "\n",
        "for row in stream:\n",
        "    x, y, z = (row.split(','))\n",
        "    date.append(x)\n",
        "    users.append(y)\n",
        "    views.append(int(z))\n",
        "\n",
        "print(f'Среднее количество просмотров на уникального пользователя: {round(sum(views) / len(set(users)), 2)}')"
      ]
    },
    {
      "cell_type": "markdown",
      "metadata": {
        "id": "Z24qdgpKeu0r"
      },
      "source": [
        "### Задание 6 (необязательное)  \n",
        "Необходимо у пользователя запрашивать набор чисел разделенных пробелом.  \n",
        "В результате в отсортированном порядке должны выводиться числа, которые повторяются в вводе более одного раза."
      ]
    },
    {
      "cell_type": "code",
      "execution_count": null,
      "metadata": {
        "colab": {
          "base_uri": "https://localhost:8080/"
        },
        "id": "FjtjQNFrexsa",
        "outputId": "de9caa85-e5e6-457b-cf7b-aad2b2caefce"
      },
      "outputs": [
        {
          "name": "stdout",
          "output_type": "stream",
          "text": [
            "Введите числа: 10 15 15 103 200 200 200 1 1 1 1 1 2 2 2\n",
            "1 2 15 200\n"
          ]
        }
      ],
      "source": [
        "input_string = input('Введите числа: ')\n",
        "numbers = []\n",
        "\n",
        "for number in input_string.split(' '):\n",
        "    if (input_string.split(' ')).count(number) > 1:\n",
        "        if int(number) not in numbers:\n",
        "            numbers.append(int(number))\n",
        "\n",
        "print(' '.join(map(str, sorted(numbers))))"
      ]
    }
  ],
  "metadata": {
    "colab": {
      "collapsed_sections": [],
      "name": "Домашнее задание по теме \"Введение в типы данных и циклы. Часть 1\".ipynb",
      "provenance": []
    },
    "kernelspec": {
      "display_name": "Python 3.8.10 64-bit",
      "language": "python",
      "name": "python3"
    },
    "language_info": {
      "codemirror_mode": {
        "name": "ipython",
        "version": 3
      },
      "file_extension": ".py",
      "mimetype": "text/x-python",
      "name": "python",
      "nbconvert_exporter": "python",
      "pygments_lexer": "ipython3",
      "version": "3.8.10"
    },
    "vscode": {
      "interpreter": {
        "hash": "9650cb4e16cdd4a8e8e2d128bf38d875813998db22a3c986335f89e0cb4d7bb2"
      }
    }
  },
  "nbformat": 4,
  "nbformat_minor": 0
}
