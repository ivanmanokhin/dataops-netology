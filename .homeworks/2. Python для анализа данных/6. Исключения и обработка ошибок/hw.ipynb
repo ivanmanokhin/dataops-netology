{
 "cells": [
  {
   "cell_type": "markdown",
   "metadata": {},
   "source": [
    "## Домашнее задание по теме: \"Исключения и обработка ошибок\""
   ]
  },
  {
   "cell_type": "markdown",
   "metadata": {},
   "source": [
    "### Задание 1  \n",
    "Печатные газеты использовали свой формат дат для каждого выпуска. Для каждой газеты из списка напишите  \n",
    "формат указанной даты для перевода в объект datetime:  \n",
    "The Moscow Times - Wednesday, October 2, 2002  \n",
    "The Guardian - Friday, 11.10.13  \n",
    "Daily News - Thursday, 18 August 1977"
   ]
  },
  {
   "cell_type": "code",
   "execution_count": 21,
   "metadata": {},
   "outputs": [],
   "source": [
    "# импортируем модули\n",
    "from datetime import datetime\n",
    "from datetime import timedelta"
   ]
  },
  {
   "cell_type": "code",
   "execution_count": 3,
   "metadata": {},
   "outputs": [
    {
     "name": "stdout",
     "output_type": "stream",
     "text": [
      "2002-10-02 00:00:00\n",
      "2013-11-10 00:00:00\n",
      "1977-08-18 00:00:00\n"
     ]
    }
   ],
   "source": [
    "the_moscow_time = datetime.strptime('Wednesday, October 2, 2002', '%A, %B %d, %Y')\n",
    "the_guardian = datetime.strptime('Friday, 11.10.13', '%A, %m.%d.%y')\n",
    "daily_news = datetime.strptime('Thursday, 18 August 1977', '%A, %d %B %Y')\n",
    "\n",
    "print(the_moscow_time)\n",
    "print(the_guardian)\n",
    "print(daily_news)"
   ]
  },
  {
   "cell_type": "markdown",
   "metadata": {},
   "source": [
    "### Задание 2  \n",
    "Дан поток дат в формате YYYY-MM-DD, в которых встречаются некорректные значения:  \n",
    "stream = [‘2018-04-02’, ‘2018-02-29’, ‘2018-19-02’]  \n",
    "Напишите функцию, которая проверяет эти даты на корректность. Т. е. для каждой даты  \n",
    "возвращает True (дата корректна) или False (некорректная дата)."
   ]
  },
  {
   "cell_type": "code",
   "execution_count": 5,
   "metadata": {},
   "outputs": [
    {
     "data": {
      "text/plain": [
       "[True, False, False]"
      ]
     },
     "execution_count": 5,
     "metadata": {},
     "output_type": "execute_result"
    }
   ],
   "source": [
    "stream = ['2018-04-02', '2018-02-29', '2018-19-02']\n",
    "\n",
    "def date_correct(date):\n",
    "        try:\n",
    "            datetime.strptime(date, '%Y-%m-%d')\n",
    "            return True\n",
    "        except:\n",
    "            return False\n",
    "\n",
    "[date_correct(i) for i in stream]"
   ]
  },
  {
   "cell_type": "markdown",
   "metadata": {},
   "source": [
    "### Задание 3\n",
    "Напишите функцию date_range, которая возвращает список дат за период от start_date до end_date.  \n",
    "Даты должны вводиться в формате YYYY-MM-DD. В случае неверного формата или при start_date > end_date  \n",
    "должен возвращаться пустой список."
   ]
  },
  {
   "cell_type": "code",
   "execution_count": 27,
   "metadata": {},
   "outputs": [
    {
     "name": "stdout",
     "output_type": "stream",
     "text": [
      "['2017-01-01', '2017-01-02', '2017-01-03', '2017-01-04', '2017-01-05']\n",
      "[]\n",
      "[]\n"
     ]
    }
   ],
   "source": [
    "def date_range(start_date, end_date):\n",
    "        date_list = []\n",
    "        try:\n",
    "            start_date = datetime.strptime(start_date, '%Y-%m-%d')\n",
    "            end_date = datetime.strptime(end_date, '%Y-%m-%d')\n",
    "        except:\n",
    "            return date_list\n",
    "\n",
    "        if start_date > end_date:\n",
    "            return date_list\n",
    "        while start_date <= end_date:\n",
    "            date_list.append(start_date.strftime('%Y-%m-%d'))\n",
    "            start_date = start_date + timedelta(days=1)\n",
    "        return date_list\n",
    "\n",
    "print(date_range('2017-01-01', '2017-01-05'))\n",
    "print(date_range('2017-01-05', '2017-01-01'))\n",
    "print(date_range('2017-13-01', '2017-01-01'))"
   ]
  },
  {
   "cell_type": "markdown",
   "metadata": {},
   "source": [
    "### Задание 4 (необязательное)  \n",
    "Ваш коллега прислал код функции:  "
   ]
  },
  {
   "cell_type": "code",
   "execution_count": 39,
   "metadata": {},
   "outputs": [],
   "source": [
    "DEFAULT_USER_COUNT = 3\n",
    "def delete_and_return_last_user(region, default_list=['A100', 'A101', 'A102']):\n",
    "    \"\"\"\n",
    "    Удаляет из списка default_list последнего пользователя\n",
    "    и возвращает ID нового последнего пользователя.\n",
    "    \"\"\"\n",
    "    element_to_delete = default_list[-1]\n",
    "    default_list.remove(element_to_delete)\n",
    "    return default_list[DEFAULT_USER_COUNT-2]"
   ]
  },
  {
   "cell_type": "markdown",
   "metadata": {},
   "source": [
    "При однократном вызове этой функции все работает корректно:  \n",
    "`delete_and_return_last_user(1)\n",
    "'A101'`  \n",
    "Однако, при повторном вызове получается ошибка IndexError: list index out of range.  \n",
    "Задание:  \n",
    "1. Что значит ошибка list index out of range?  \n",
    "2. Почему при первом запуске функция работает корректно, а при втором - нет?  "
   ]
  },
  {
   "cell_type": "markdown",
   "metadata": {},
   "source": [
    "### Ответ:\n",
    "1. Ошибка list index out of range - означает что мы пытаемся обратится к элементу списка по несуществующему индексу  \n",
    "2. Потому что при удалении второго элемента остается один элемент с индексом 0, элемента с индексом 1 - нет.  "
   ]
  }
 ],
 "metadata": {
  "kernelspec": {
   "display_name": "Python 3.8.10 64-bit",
   "language": "python",
   "name": "python3"
  },
  "language_info": {
   "codemirror_mode": {
    "name": "ipython",
    "version": 3
   },
   "file_extension": ".py",
   "mimetype": "text/x-python",
   "name": "python",
   "nbconvert_exporter": "python",
   "pygments_lexer": "ipython3",
   "version": "3.8.10"
  },
  "orig_nbformat": 4,
  "vscode": {
   "interpreter": {
    "hash": "9650cb4e16cdd4a8e8e2d128bf38d875813998db22a3c986335f89e0cb4d7bb2"
   }
  }
 },
 "nbformat": 4,
 "nbformat_minor": 2
}
