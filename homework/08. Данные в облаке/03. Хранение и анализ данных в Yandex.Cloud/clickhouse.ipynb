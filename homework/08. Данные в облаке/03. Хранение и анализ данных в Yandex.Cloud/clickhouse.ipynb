{
  "nbformat": 4,
  "nbformat_minor": 0,
  "metadata": {
    "colab": {
      "provenance": []
    },
    "kernelspec": {
      "name": "python3",
      "display_name": "Python 3"
    },
    "language_info": {
      "name": "python"
    }
  },
  "cells": [
    {
      "cell_type": "code",
      "execution_count": 1,
      "metadata": {
        "colab": {
          "base_uri": "https://localhost:8080/",
          "height": 52
        },
        "id": "1Mk0LDsxSqtF",
        "outputId": "817555a4-981c-452e-f2e7-d0144d437e95"
      },
      "outputs": [
        {
          "output_type": "stream",
          "name": "stdout",
          "text": [
            "Mounted at /content/drive\n",
            "/content/drive/MyDrive/cld-21\n"
          ]
        },
        {
          "output_type": "display_data",
          "data": {
            "text/html": [
              "        <script type=\"text/javascript\">\n",
              "        window.PlotlyConfig = {MathJaxConfig: 'local'};\n",
              "        if (window.MathJax && window.MathJax.Hub && window.MathJax.Hub.Config) {window.MathJax.Hub.Config({SVG: {font: \"STIX-Web\"}});}\n",
              "        if (typeof require !== 'undefined') {\n",
              "        require.undef(\"plotly\");\n",
              "        requirejs.config({\n",
              "            paths: {\n",
              "                'plotly': ['https://cdn.plot.ly/plotly-2.18.2.min']\n",
              "            }\n",
              "        });\n",
              "        require(['plotly'], function(Plotly) {\n",
              "            window._Plotly = Plotly;\n",
              "        });\n",
              "        }\n",
              "        </script>\n",
              "        "
            ]
          },
          "metadata": {}
        }
      ],
      "source": [
        "# импорт требуемых библиотек\n",
        "import pandas as pd\n",
        "import requests\n",
        "from google.colab import drive\n",
        "drive.mount('/content/drive')\n",
        "%cd drive/MyDrive/cld-21\n",
        "import some_funcs"
      ]
    },
    {
      "cell_type": "code",
      "source": [
        "# создание pandas df из csv\n",
        "hits_df = pd.read_csv('metrika_cloud_case_data_hits.csv', sep = '\\t')\n",
        "visits_df = pd.read_csv('metrika_cloud_case_data_visits.csv', sep = '\\t')"
      ],
      "metadata": {
        "id": "3lRPeyjsX5p4"
      },
      "execution_count": 2,
      "outputs": []
    },
    {
      "cell_type": "code",
      "source": [
        "# переменные для подключения к clickhouse\n",
        "CH_HOST_NAME = 'rc1a-rico851cbhrudsig.mdb.yandexcloud.net'\n",
        "CH_USER      = 'manokhin'\n",
        "CH_DB_NAME   = 'metrica_data'\n",
        "CH_PASS      = open('chpass.txt').read().strip()\n",
        "CH_HOST      = f'https://{CH_HOST_NAME}:8443'\n",
        "CH_CASERT    = 'YandexInternalRootCA.crt'"
      ],
      "metadata": {
        "id": "sbnCr1BfYcq-"
      },
      "execution_count": 3,
      "outputs": []
    },
    {
      "cell_type": "code",
      "source": [
        "# подключение к clickhouse\n",
        "from some_funcs import simple_ch_client\n",
        "my_client = simple_ch_client(CH_HOST, CH_USER, CH_PASS, CH_CASERT)\n",
        "my_client.get_version()"
      ],
      "metadata": {
        "colab": {
          "base_uri": "https://localhost:8080/"
        },
        "id": "9qgC7PX7YnQD",
        "outputId": "6d7b07a7-0f42-404a-ce44-acd73df13d63"
      },
      "execution_count": 4,
      "outputs": [
        {
          "output_type": "stream",
          "name": "stdout",
          "text": [
            "23.3.7.5\n",
            "\n"
          ]
        }
      ]
    },
    {
      "cell_type": "code",
      "source": [
        "# загрузка hits\n",
        "hits_df.rename(columns={'ym:pv:browser':'Browser',\n",
        "                'ym:pv:clientID':'ClientID',\n",
        "                'ym:pv:date':'EventDate',\n",
        "                'ym:pv:dateTime':'EventTime',\n",
        "                'ym:pv:deviceCategory':'DeviceCategory',\n",
        "                'ym:pv:lastTrafficSource':'TraficSource',\n",
        "                'ym:pv:operatingSystemRoot':'OSRoot',\n",
        "                'ym:pv:URL':'URL'}, inplace = True)\n",
        "\n",
        "q = f'drop table if exists {CH_DB_NAME}.hits '\n",
        "my_client.get_clickhouse_data(q)\n",
        "\n",
        "q = f'''\n",
        "create table {CH_DB_NAME}.hits (\n",
        "    Browser String,\n",
        "    ClientID UInt64,\n",
        "    EventDate Date,\n",
        "    EventTime DateTime,\n",
        "    DeviceCategory String,\n",
        "    TraficSource String,\n",
        "    OSRoot String,\n",
        "    URL String\n",
        ") ENGINE = MergeTree() ORDER BY (intHash32(ClientID), EventDate) SAMPLE BY intHash32(ClientID) SETTINGS index_granularity=8192\n",
        "'''\n",
        "\n",
        "my_client.get_clickhouse_data(q)\n",
        "\n",
        "my_client.upload(\n",
        "    f'{CH_DB_NAME}.hits',\n",
        "    hits_df.to_csv(index = False, sep = '\\t'))"
      ],
      "metadata": {
        "colab": {
          "base_uri": "https://localhost:8080/",
          "height": 35
        },
        "id": "baDDWWCPZPiD",
        "outputId": "7dcd03e8-65c4-488a-a0d7-bda5f9d70519"
      },
      "execution_count": 5,
      "outputs": [
        {
          "output_type": "execute_result",
          "data": {
            "text/plain": [
              "''"
            ],
            "application/vnd.google.colaboratory.intrinsic+json": {
              "type": "string"
            }
          },
          "metadata": {},
          "execution_count": 5
        }
      ]
    },
    {
      "cell_type": "code",
      "source": [
        "# загрузка visits\n",
        "visits_df.rename(columns={'ym:s:browser':'Browser',\n",
        "                'ym:s:clientID':'ClientID',\n",
        "                'ym:s:date':'StartDate',\n",
        "                'ym:s:dateTime':'StartTime',\n",
        "                'ym:s:deviceCategory':'DeviceCategory',\n",
        "                'ym:s:lastTrafficSource':'TraficSource',\n",
        "                'ym:s:operatingSystemRoot':'OSRoot',\n",
        "                'ym:s:purchaseRevenue': 'Purchase.Revenue',\n",
        "                'ym:s:purchaseID': 'Purchase.ID',\n",
        "                'ym:s:startURL':'StartURL'}, inplace = True)\n",
        "\n",
        "visits_df['Purchases'] = visits_df['Purchase.Revenue'].map(lambda x: x.count(',') + 1 if x != '[]' else 0 )\n",
        "visits_df['Revenue'] = visits_df['Purchase.Revenue'].map(lambda x: sum(map(int,x[1:-1].split(','))) if x != '[]' else 0)\n",
        "\n",
        "visits_df.drop(columns=['Purchase.ID','Purchase.Revenue'], inplace=True)\n",
        "\n",
        "q = f'drop table if exists {CH_DB_NAME}.visits '\n",
        "my_client.get_clickhouse_data(q)\n",
        "\n",
        "q = f'''\n",
        "create table {CH_DB_NAME}.visits (\n",
        "    Browser String,\n",
        "    ClientID UInt64,\n",
        "    StartDate Date,\n",
        "    StartTime DateTime,\n",
        "    DeviceCategory UInt8,\n",
        "    TraficSource String,\n",
        "    OSRoot String,\n",
        "    Purchases Int32,\n",
        "    Revenue Double,\n",
        "    StartURL String\n",
        ") ENGINE = MergeTree() ORDER BY (intHash32(ClientID), StartDate) SAMPLE BY intHash32(ClientID) SETTINGS index_granularity=8192\n",
        "'''\n",
        "\n",
        "my_client.get_clickhouse_data(q)\n",
        "\n",
        "my_client.upload(\n",
        "    f'{CH_DB_NAME}.visits',\n",
        "    visits_df.to_csv(sep='\\t', index =False))"
      ],
      "metadata": {
        "colab": {
          "base_uri": "https://localhost:8080/",
          "height": 35
        },
        "id": "ud2I8Mu6ZYEl",
        "outputId": "de9df75e-50e1-40c7-c003-ad16e534d394"
      },
      "execution_count": 6,
      "outputs": [
        {
          "output_type": "execute_result",
          "data": {
            "text/plain": [
              "''"
            ],
            "application/vnd.google.colaboratory.intrinsic+json": {
              "type": "string"
            }
          },
          "metadata": {},
          "execution_count": 6
        }
      ]
    }
  ]
}