{
  "cells": [
    {
      "cell_type": "markdown",
      "metadata": {
        "id": "fww1IVNeB8wS"
      },
      "source": [
        "## Домашнее задание по теме: \"Основы Python\""
      ]
    },
    {
      "cell_type": "markdown",
      "metadata": {},
      "source": [
        "### Задание 1  \n",
        "Даны 2 переменных, в которых хранятся строки произвольной длины: phrase_1 и phrase_2.  \n",
        "Напишите код, который проверяет какая из этих строк длиннее."
      ]
    },
    {
      "cell_type": "code",
      "execution_count": 1,
      "metadata": {
        "colab": {
          "base_uri": "https://localhost:8080/"
        },
        "id": "PEamEQeDCB5_",
        "outputId": "bfb9b6ab-be7c-44e1-b970-5f0dd80d63be"
      },
      "outputs": [
        {
          "name": "stdout",
          "output_type": "stream",
          "text": [
            "Фраза 1 длиннее фразы 2\n"
          ]
        }
      ],
      "source": [
        "phrase_1 = 'Насколько проще было бы писать программы, если бы не заказчики'\n",
        "phrase_2 = '640Кб должно хватить для любых задач. Билл Гейтс (по легенде)'\n",
        "\n",
        "if type(phrase_1) == type(phrase_2):\n",
        "    if len(phrase_1) > len(phrase_2):\n",
        "        print('Фраза 1 длиннее фразы 2')\n",
        "    elif len(phrase_1) < len(phrase_2):\n",
        "        print('Фраза 2 длиннее фразы 1')\n",
        "    else:\n",
        "        print('Фразы равной длины')\n",
        "else:\n",
        "    print('Разный тип данных или не объявлены переменные')\n"
      ]
    },
    {
      "cell_type": "markdown",
      "metadata": {
        "id": "WzvDjSY0CIyE"
      },
      "source": [
        "### Задание 2  \n",
        "Дана переменная, в которой хранится четырехзначное число (год). Необходимо  \n",
        "написать программу, которая выведет, является ли данный год високосным или обычным."
      ]
    },
    {
      "cell_type": "code",
      "execution_count": 2,
      "metadata": {
        "colab": {
          "base_uri": "https://localhost:8080/"
        },
        "id": "72HJ2u-TCMAG",
        "outputId": "38d13b64-c1a7-42d3-834c-67f470cf1cc6"
      },
      "outputs": [
        {
          "name": "stdout",
          "output_type": "stream",
          "text": [
            "Високосный год\n"
          ]
        }
      ],
      "source": [
        "year = 2020\n",
        "\n",
        "if (year % 4 == 0) and (year % 100 != 0) or (year % 400 == 0):\n",
        "    print('Високосный год')\n",
        "else:\n",
        "    print('Обычный год')\n"
      ]
    },
    {
      "cell_type": "markdown",
      "metadata": {
        "id": "8mqyeP4JCq6k"
      },
      "source": [
        "### Задание 3  \n",
        "Необходимо написать программу, которая будет запрашивать у пользователя  \n",
        "месяц и дату рождения и выводить соответствующий знак зодиака."
      ]
    },
    {
      "cell_type": "code",
      "execution_count": null,
      "metadata": {
        "colab": {
          "base_uri": "https://localhost:8080/"
        },
        "id": "qJAru6E8Cth0",
        "outputId": "10570b1b-62e9-4222-afe4-6cf049392132"
      },
      "outputs": [
        {
          "name": "stdout",
          "output_type": "stream",
          "text": [
            "Введите месяц: июнь\n",
            "Введите число: 30\n",
            "\n",
            "Ваш знак зодиака: Рак\n"
          ]
        }
      ],
      "source": [
        "month = input('Введите месяц: ').lower()\n",
        "day = int(input('Введите число: '))\n",
        "\n",
        "if month == 'март':\n",
        "  if 1 <= day <= 20:\n",
        "    print('\\nВаш знак зодиака: Рыбы')\n",
        "  elif 21 <= day <= 31:\n",
        "    print('\\nВаш знак зодиака: Овен')\n",
        "  else:\n",
        "    print(f'\\nВ месяце {month} нет числа {day}')\n",
        "elif month == 'апрель':\n",
        "  if 1 <= day <= 20:\n",
        "    print('\\nВаш знак зодиака: Овен')\n",
        "  elif 21 <= day <= 30:\n",
        "    print('\\nВаш знак зодиака: Телец')\n",
        "  else:\n",
        "    print(f'\\nВ месяце {month} нет числа {day}')\n",
        "elif month == 'май':\n",
        "  if 1 <= day <= 21:\n",
        "    print('\\nВаш знак зодиака: Телец')\n",
        "  elif 22 <= day <= 31:\n",
        "    print('\\nВаш знак зодиака: Близнецы')\n",
        "  else:\n",
        "    print(f'\\nВ месяце {month} нет числа {day}')\n",
        "elif month == 'июнь':\n",
        "  if 1 <= day <= 21:\n",
        "    print('\\nВаш знак зодиака: Близнецы')\n",
        "  elif 22 <= day <= 30:\n",
        "    print('\\nВаш знак зодиака: Рак')\n",
        "  else:\n",
        "    print(f'\\nВ месяце {month} нет числа {day}')\n",
        "elif month == 'июль':\n",
        "  if 1 <= day <= 22:\n",
        "    print('\\nВаш знак зодиака: Рак')\n",
        "  elif 23 <= day <= 31:\n",
        "    print('\\nВаш знак зодиака: Лев')\n",
        "  else:\n",
        "    print(f'\\nВ месяце {month} нет числа {day}')\n",
        "elif month == 'август':\n",
        "  if 1 <= day <= 23:\n",
        "    print('\\nВаш знак зодиака: Лев')\n",
        "  elif 24 <= day <= 30:\n",
        "    print('\\nВаш знак зодиака: Дева')\n",
        "  else:\n",
        "    print(f'\\nВ месяце {month} нет числа {day}')\n",
        "elif month == 'сентябрь':\n",
        "  if 1 <= day <= 22:\n",
        "    print('\\nВаш знак зодиака: Дева')\n",
        "  elif 23 <= day <= 31:\n",
        "    print('\\nВаш знак зодиака: Весы')\n",
        "  else:\n",
        "    print(f'\\nВ месяце {month} нет числа {day}')\n",
        "elif month == 'октябрь':\n",
        "  if 1 <= day <= 24:\n",
        "    print('\\nВаш знак зодиака: Весы')\n",
        "  elif 24 <= day <= 30:\n",
        "    print('\\nВаш знак зодиака: Скорпион')\n",
        "  else:\n",
        "    print(f'\\nВ месяце {month} нет числа {day}')\n",
        "elif month == 'ноябрь':\n",
        "  if 1 <= day <= 22:\n",
        "    print('\\nВаш знак зодиака: Скорпион')\n",
        "  elif 23 <= day <= 31:\n",
        "    print('\\nВаш знак зодиака: Стрелец')\n",
        "  else:\n",
        "    print(f'\\nВ месяце {month} нет числа {day}')\n",
        "elif month == 'декабрь':\n",
        "  if 1 <= day <= 21:\n",
        "    print('\\nВаш знак зодиака: Стрелец')\n",
        "  elif 22 <= day <= 31:\n",
        "    print('\\nВаш знак зодиака: Козерог')\n",
        "  else:\n",
        "    print(f'\\nВ месяце {month} нет числа {day}')\n",
        "elif month == 'январь':\n",
        "  if 1 <= day <= 21:\n",
        "    print('\\nВаш знак зодиака: Козерог')\n",
        "  elif 22 <= day <= 31:\n",
        "    print('\\nВаш знак зодиака: Водолей')\n",
        "  else:\n",
        "    print(f'\\nВ месяце {month} нет числа {day}')\n",
        "elif month == 'февраль':\n",
        "  if 1 <= day <= 18:\n",
        "    print('\\nВаш знак зодиака: Водолей')\n",
        "  elif 19 <= day <= 29:\n",
        "    print('\\nВаш знак зодиака: Рыбы')\n",
        "  else:\n",
        "    print(f'\\nВ месяце {month} нет числа {day}')\n",
        "else:\n",
        "  print(f'\\nМесяца {month} не существует')\n"
      ]
    },
    {
      "cell_type": "markdown",
      "metadata": {
        "id": "aWwMlgVCF-R6"
      },
      "source": [
        "### Задание 4  \n",
        "Вам нужно написать программу для подбора упаковок по размерам товара.  \n",
        "Размеры (ширина, длина, высота) хранятся в переменных (в сантиметрах):"
      ]
    },
    {
      "cell_type": "code",
      "execution_count": null,
      "metadata": {
        "colab": {
          "base_uri": "https://localhost:8080/"
        },
        "id": "Prfc0QOiGBY5",
        "outputId": "71dfb145-5a89-40a6-e75e-a0005a0ebcc9"
      },
      "outputs": [
        {
          "name": "stdout",
          "output_type": "stream",
          "text": [
            "Стандартная коробка №3\n"
          ]
        }
      ],
      "source": [
        "width = 15\n",
        "length = 50\n",
        "height = 15\n",
        "\n",
        "if length > 200:\n",
        "    print('Упаковка для лыж')\n",
        "elif width <= 15 and length <= 15 and height <= 15:\n",
        "    print('Коробка №1')\n",
        "elif 15 < width < 50 or 15 < length < 50 or 15 < height < 50:\n",
        "    print('Коробка №2')\n",
        "else:\n",
        "    print('Стандартная коробка №3')\n"
      ]
    },
    {
      "cell_type": "markdown",
      "metadata": {
        "id": "8AmLCppUI3SM"
      },
      "source": [
        "### Задание 5 (необязательное)  \n",
        "Дана переменная, в которой хранится шестизначное число (номер проездного билета).  \n",
        "Напишите программу, которая будет определять, является ли данный билет \"счастливым\".  \n",
        "Билет считается счастливым, если сумма первых трех цифр совпадает с суммой последних трех цифр номера."
      ]
    },
    {
      "cell_type": "code",
      "execution_count": null,
      "metadata": {
        "colab": {
          "base_uri": "https://localhost:8080/"
        },
        "id": "_p_Z94gfJlgE",
        "outputId": "c8dfd33b-438a-4768-d9b2-15955aa7c8c1"
      },
      "outputs": [
        {
          "name": "stdout",
          "output_type": "stream",
          "text": [
            "Несчастливый билет\n"
          ]
        }
      ],
      "source": [
        "number = 123456\n",
        "left_side = ((number // 1000) % 10) + ((number // 10000) % 10) + number // 100000\n",
        "right_side = ((number % 1000) // 100) + ((number % 100) // 10) + (number % 10)\n",
        "\n",
        "if left_side == right_side:\n",
        "  print('Счастливый билет')\n",
        "else:\n",
        "  print('Несчастливый билет')\n"
      ]
    },
    {
      "cell_type": "markdown",
      "metadata": {
        "id": "gdYE6AyGKTYd"
      },
      "source": [
        "### Задание 6 (необязательное)  \n",
        "Напишите программу, которая сможет вычислять площади трех фигур  \n",
        "(круг, треугольник и прямоугольник). Тип фигуры запрашиваем через  \n",
        "пользовательский ввод, после чего делаем запрос характеристик фигуры:"
      ]
    },
    {
      "cell_type": "code",
      "execution_count": null,
      "metadata": {
        "colab": {
          "base_uri": "https://localhost:8080/"
        },
        "id": "SPv-FOhfKV3R",
        "outputId": "f2c373c6-383e-4029-b96c-29325a7ce5e0"
      },
      "outputs": [
        {
          "name": "stdout",
          "output_type": "stream",
          "text": [
            "Введите тип фигуры: круг\n",
            "Введите радиус круга: 10\n",
            "Площадь круга:  314.15000000000003\n"
          ]
        }
      ],
      "source": [
        "shape_type = input('Введите тип фигуры: ').lower()\n",
        "\n",
        "if shape_type == 'круг':\n",
        "    radius = int(input('Введите радиус круга: '))\n",
        "    print('Площадь круга: ', 3.1415 * radius ** 2)\n",
        "elif shape_type == 'треугольник':\n",
        "    side_a = int(input('Введите длину стороны A: '))\n",
        "    side_b = int(input('Введите длину стороны B: '))\n",
        "    side_c = int(input('Введите длину стороны C: '))\n",
        "    p = (side_a + side_b + side_c) / 2\n",
        "    print('Площадь треугольника: ', (p * (p - side_a) * (p - side_b) * (p - side_c)) ** 0.5)\n",
        "elif shape_type == 'прямоугольник':\n",
        "    side_a = int(input('Введите длину стороны A: '))\n",
        "    side_b = int(input('Введите длину стороны B: '))\n",
        "    print('Площадь прямоугольника: ', side_a * side_b)\n",
        "else:\n",
        "    print('Неверный тип фигуры')\n"
      ]
    }
  ],
  "metadata": {
    "colab": {
      "collapsed_sections": [],
      "name": "Домашнее задание по теме «Основы Python».ipynb",
      "provenance": []
    },
    "kernelspec": {
      "display_name": "Python 3.8.10 64-bit",
      "language": "python",
      "name": "python3"
    },
    "language_info": {
      "codemirror_mode": {
        "name": "ipython",
        "version": 3
      },
      "file_extension": ".py",
      "mimetype": "text/x-python",
      "name": "python",
      "nbconvert_exporter": "python",
      "pygments_lexer": "ipython3",
      "version": "3.8.10"
    },
    "vscode": {
      "interpreter": {
        "hash": "9650cb4e16cdd4a8e8e2d128bf38d875813998db22a3c986335f89e0cb4d7bb2"
      }
    }
  },
  "nbformat": 4,
  "nbformat_minor": 0
}
