{
 "cells": [
  {
   "cell_type": "markdown",
   "metadata": {},
   "source": [
    "## Домашнее задание по теме: \"Работа с файловой системой и модули\""
   ]
  },
  {
   "cell_type": "markdown",
   "metadata": {},
   "source": [
    "### Задание 1\n",
    "Переведите содержимое файла purchase_log.txt в словарь purchases вида:  \n",
    "{‘1840e0b9d4’: ‘Продукты’, …}  "
   ]
  },
  {
   "cell_type": "code",
   "execution_count": 28,
   "metadata": {},
   "outputs": [],
   "source": [
    "# импортируем модули:\n",
    "import os\n",
    "import json"
   ]
  },
  {
   "cell_type": "code",
   "execution_count": 29,
   "metadata": {},
   "outputs": [],
   "source": [
    "# создаем словарь из файла purchase_log.txt:\n",
    "purchases = {}\n",
    "with open ('purchase_log.txt', encoding='utf-8') as f:\n",
    "    f.readline() # убираем первую строку\n",
    "    for line in f:\n",
    "        line = json.loads(line.strip())\n",
    "        purchases[line['user_id']] = line['category']"
   ]
  },
  {
   "cell_type": "code",
   "execution_count": 34,
   "metadata": {},
   "outputs": [
    {
     "name": "stdout",
     "output_type": "stream",
     "text": [
      "('1840e0b9d4', 'Продукты')\n",
      "('4e4f90fcfb', 'Электроника')\n",
      "('afea8d72fc', 'Электроника')\n",
      "('373a6055fe', 'Бытовая техника')\n",
      "('9b2ab046f3', 'Электроника')\n",
      "('9f39d307c3', 'Электроника')\n",
      "('44edeffc91', 'Продукты')\n",
      "('704474fa2d', 'Продукты')\n",
      "('1de31be403', 'Бытовая техника')\n",
      "('b71f36a5e4', 'Продукты')\n"
     ]
    }
   ],
   "source": [
    "# проверяем словарь\n",
    "for i, el in enumerate(purchases.items()):\n",
    "    print(el)\n",
    "    if i == 9:\n",
    "        break"
   ]
  },
  {
   "cell_type": "markdown",
   "metadata": {},
   "source": [
    "### Задание 2\n",
    "Для каждого user_id в файле visit_log.csv определите третий столбец с категорией покупки  \n",
    "(если покупка была, сам файл visit_log.csv изменять не надо). Запишите в файл funnel.csv  \n",
    "визиты из файла visit_log.csv, в которых были покупки с указанием категории.  \n",
    "Учтите условия на данные:  \n",
    "содержимое purchase_log.txt помещается в оперативную память компьютера  \n",
    "содержимое visit_log.csv - нет; используйте только построчную обработку этого файла  "
   ]
  },
  {
   "cell_type": "code",
   "execution_count": 31,
   "metadata": {},
   "outputs": [],
   "source": [
    "purchases = {}\n",
    "with open ('purchase_log.txt', encoding='utf-8') as f:\n",
    "    f.readline() # убираем первую строку\n",
    "    for line in f: # создадим словарь для быстрого поиска по user_id\n",
    "        line = json.loads(line.strip())\n",
    "        purchases[line['user_id']] = line['category']\n",
    "    with open ('visit_log.csv', encoding='utf-8') as f2:\n",
    "        with open ('funnel.csv', 'w', encoding='utf-8') as f3:\n",
    "            for line in f2:\n",
    "                if line.split(',')[0] in purchases.keys():\n",
    "                    # записываем в файл funnel.csv пользователей по которым есть категории\n",
    "                    f3.write(line.strip() + ',' + purchases[line.split(',')[0]] + '\\n')\n"
   ]
  },
  {
   "cell_type": "code",
   "execution_count": 1,
   "metadata": {},
   "outputs": [
    {
     "name": "stdout",
     "output_type": "stream",
     "text": [
      "13798\n",
      "1840e0b9d4,other,Продукты\n",
      "4e4f90fcfb,context,Электроника\n",
      "afea8d72fc,other,Электроника\n",
      "2824221f38,email,Продукты\n",
      "373a6055fe,other,Бытовая техника\n"
     ]
    }
   ],
   "source": [
    "with open('funnel.csv', encoding='utf-8') as f:\n",
    "    print(sum(1 for line in f)) # проверяем количество строк в файле\n",
    "    f.seek(0)\n",
    "    for i, line in enumerate(f): # проверим несколько строк\n",
    "        print(line.strip())\n",
    "        if i == 4:\n",
    "            break"
   ]
  }
 ],
 "metadata": {
  "kernelspec": {
   "display_name": "Python 3.8.10 64-bit",
   "language": "python",
   "name": "python3"
  },
  "language_info": {
   "codemirror_mode": {
    "name": "ipython",
    "version": 3
   },
   "file_extension": ".py",
   "mimetype": "text/x-python",
   "name": "python",
   "nbconvert_exporter": "python",
   "pygments_lexer": "ipython3",
   "version": "3.8.10"
  },
  "orig_nbformat": 4,
  "vscode": {
   "interpreter": {
    "hash": "9650cb4e16cdd4a8e8e2d128bf38d875813998db22a3c986335f89e0cb4d7bb2"
   }
  }
 },
 "nbformat": 4,
 "nbformat_minor": 2
}
