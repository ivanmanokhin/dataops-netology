{
  "cells": [
    {
      "cell_type": "markdown",
      "metadata": {
        "id": "MeVGDu-x5U-i"
      },
      "source": [
        "## Домашнее задание по теме: \"Классификация: Логистическая регрессия и SVM\""
      ]
    },
    {
      "cell_type": "markdown",
      "metadata": {
        "id": "U6mgZHnk5U-y"
      },
      "source": [
        "Описание задания:\n",
        "\n",
        "В домашнем задании необходимо применить полученные знания в теории оптимизации и машинном обучении для реализации логистической регрессии."
      ]
    },
    {
      "cell_type": "markdown",
      "metadata": {
        "id": "OcB99UtO5U-_"
      },
      "source": [
        "### Загрузите данные. Используйте датасет с ирисами. В данных оставьте только 2 класса: Iris Versicolor, Iris Virginica."
      ]
    },
    {
      "cell_type": "code",
      "source": [
        "import copy\n",
        "import numpy as np\n",
        "import pandas as pd"
      ],
      "metadata": {
        "id": "aGH7GOCXOLfe"
      },
      "execution_count": null,
      "outputs": []
    },
    {
      "cell_type": "code",
      "execution_count": null,
      "metadata": {
        "id": "w4ilgmRZ5U_F"
      },
      "outputs": [],
      "source": [
        "# загружаем датасет с видами ириса\n",
        "from sklearn.datasets import load_iris\n",
        "iris = load_iris()"
      ]
    },
    {
      "cell_type": "code",
      "source": [
        "# находим индекс элемента с видом ириса setosa\n",
        "np.where(iris.target_names == 'setosa') "
      ],
      "metadata": {
        "colab": {
          "base_uri": "https://localhost:8080/"
        },
        "id": "l5ZTarpAOrCr",
        "outputId": "1f34c590-0c2c-4753-b70a-7fa1e4bf173d"
      },
      "execution_count": null,
      "outputs": [
        {
          "output_type": "execute_result",
          "data": {
            "text/plain": [
              "(array([0]),)"
            ]
          },
          "metadata": {},
          "execution_count": 50
        }
      ]
    },
    {
      "cell_type": "code",
      "source": [
        "# создаем датафрейм\n",
        "df = pd.DataFrame(iris.data, columns = iris.feature_names)\n",
        "df['target'] = iris.target\n",
        "# избавляемся от ириса setosa\n",
        "df = df[df.target != 0]\n",
        "# приводим виды ириса к бинарному виду\n",
        "df.target = (df.target - 1)\n",
        "\n",
        "# проверяем случайную выборку\n",
        "df.sample(5)"
      ],
      "metadata": {
        "colab": {
          "base_uri": "https://localhost:8080/",
          "height": 206
        },
        "id": "1zc5TclLQn5o",
        "outputId": "aeedd259-0bdf-43f1-9700-73af71ef35b6"
      },
      "execution_count": null,
      "outputs": [
        {
          "output_type": "execute_result",
          "data": {
            "text/plain": [
              "     sepal length (cm)  sepal width (cm)  petal length (cm)  petal width (cm)  \\\n",
              "126                6.2               2.8                4.8               1.8   \n",
              "96                 5.7               2.9                4.2               1.3   \n",
              "113                5.7               2.5                5.0               2.0   \n",
              "99                 5.7               2.8                4.1               1.3   \n",
              "50                 7.0               3.2                4.7               1.4   \n",
              "\n",
              "     target  \n",
              "126       1  \n",
              "96        0  \n",
              "113       1  \n",
              "99        0  \n",
              "50        0  "
            ],
            "text/html": [
              "\n",
              "  <div id=\"df-3259cc52-6a10-4d69-ba81-1695a2cfe348\">\n",
              "    <div class=\"colab-df-container\">\n",
              "      <div>\n",
              "<style scoped>\n",
              "    .dataframe tbody tr th:only-of-type {\n",
              "        vertical-align: middle;\n",
              "    }\n",
              "\n",
              "    .dataframe tbody tr th {\n",
              "        vertical-align: top;\n",
              "    }\n",
              "\n",
              "    .dataframe thead th {\n",
              "        text-align: right;\n",
              "    }\n",
              "</style>\n",
              "<table border=\"1\" class=\"dataframe\">\n",
              "  <thead>\n",
              "    <tr style=\"text-align: right;\">\n",
              "      <th></th>\n",
              "      <th>sepal length (cm)</th>\n",
              "      <th>sepal width (cm)</th>\n",
              "      <th>petal length (cm)</th>\n",
              "      <th>petal width (cm)</th>\n",
              "      <th>target</th>\n",
              "    </tr>\n",
              "  </thead>\n",
              "  <tbody>\n",
              "    <tr>\n",
              "      <th>126</th>\n",
              "      <td>6.2</td>\n",
              "      <td>2.8</td>\n",
              "      <td>4.8</td>\n",
              "      <td>1.8</td>\n",
              "      <td>1</td>\n",
              "    </tr>\n",
              "    <tr>\n",
              "      <th>96</th>\n",
              "      <td>5.7</td>\n",
              "      <td>2.9</td>\n",
              "      <td>4.2</td>\n",
              "      <td>1.3</td>\n",
              "      <td>0</td>\n",
              "    </tr>\n",
              "    <tr>\n",
              "      <th>113</th>\n",
              "      <td>5.7</td>\n",
              "      <td>2.5</td>\n",
              "      <td>5.0</td>\n",
              "      <td>2.0</td>\n",
              "      <td>1</td>\n",
              "    </tr>\n",
              "    <tr>\n",
              "      <th>99</th>\n",
              "      <td>5.7</td>\n",
              "      <td>2.8</td>\n",
              "      <td>4.1</td>\n",
              "      <td>1.3</td>\n",
              "      <td>0</td>\n",
              "    </tr>\n",
              "    <tr>\n",
              "      <th>50</th>\n",
              "      <td>7.0</td>\n",
              "      <td>3.2</td>\n",
              "      <td>4.7</td>\n",
              "      <td>1.4</td>\n",
              "      <td>0</td>\n",
              "    </tr>\n",
              "  </tbody>\n",
              "</table>\n",
              "</div>\n",
              "      <button class=\"colab-df-convert\" onclick=\"convertToInteractive('df-3259cc52-6a10-4d69-ba81-1695a2cfe348')\"\n",
              "              title=\"Convert this dataframe to an interactive table.\"\n",
              "              style=\"display:none;\">\n",
              "        \n",
              "  <svg xmlns=\"http://www.w3.org/2000/svg\" height=\"24px\"viewBox=\"0 0 24 24\"\n",
              "       width=\"24px\">\n",
              "    <path d=\"M0 0h24v24H0V0z\" fill=\"none\"/>\n",
              "    <path d=\"M18.56 5.44l.94 2.06.94-2.06 2.06-.94-2.06-.94-.94-2.06-.94 2.06-2.06.94zm-11 1L8.5 8.5l.94-2.06 2.06-.94-2.06-.94L8.5 2.5l-.94 2.06-2.06.94zm10 10l.94 2.06.94-2.06 2.06-.94-2.06-.94-.94-2.06-.94 2.06-2.06.94z\"/><path d=\"M17.41 7.96l-1.37-1.37c-.4-.4-.92-.59-1.43-.59-.52 0-1.04.2-1.43.59L10.3 9.45l-7.72 7.72c-.78.78-.78 2.05 0 2.83L4 21.41c.39.39.9.59 1.41.59.51 0 1.02-.2 1.41-.59l7.78-7.78 2.81-2.81c.8-.78.8-2.07 0-2.86zM5.41 20L4 18.59l7.72-7.72 1.47 1.35L5.41 20z\"/>\n",
              "  </svg>\n",
              "      </button>\n",
              "      \n",
              "  <style>\n",
              "    .colab-df-container {\n",
              "      display:flex;\n",
              "      flex-wrap:wrap;\n",
              "      gap: 12px;\n",
              "    }\n",
              "\n",
              "    .colab-df-convert {\n",
              "      background-color: #E8F0FE;\n",
              "      border: none;\n",
              "      border-radius: 50%;\n",
              "      cursor: pointer;\n",
              "      display: none;\n",
              "      fill: #1967D2;\n",
              "      height: 32px;\n",
              "      padding: 0 0 0 0;\n",
              "      width: 32px;\n",
              "    }\n",
              "\n",
              "    .colab-df-convert:hover {\n",
              "      background-color: #E2EBFA;\n",
              "      box-shadow: 0px 1px 2px rgba(60, 64, 67, 0.3), 0px 1px 3px 1px rgba(60, 64, 67, 0.15);\n",
              "      fill: #174EA6;\n",
              "    }\n",
              "\n",
              "    [theme=dark] .colab-df-convert {\n",
              "      background-color: #3B4455;\n",
              "      fill: #D2E3FC;\n",
              "    }\n",
              "\n",
              "    [theme=dark] .colab-df-convert:hover {\n",
              "      background-color: #434B5C;\n",
              "      box-shadow: 0px 1px 3px 1px rgba(0, 0, 0, 0.15);\n",
              "      filter: drop-shadow(0px 1px 2px rgba(0, 0, 0, 0.3));\n",
              "      fill: #FFFFFF;\n",
              "    }\n",
              "  </style>\n",
              "\n",
              "      <script>\n",
              "        const buttonEl =\n",
              "          document.querySelector('#df-3259cc52-6a10-4d69-ba81-1695a2cfe348 button.colab-df-convert');\n",
              "        buttonEl.style.display =\n",
              "          google.colab.kernel.accessAllowed ? 'block' : 'none';\n",
              "\n",
              "        async function convertToInteractive(key) {\n",
              "          const element = document.querySelector('#df-3259cc52-6a10-4d69-ba81-1695a2cfe348');\n",
              "          const dataTable =\n",
              "            await google.colab.kernel.invokeFunction('convertToInteractive',\n",
              "                                                     [key], {});\n",
              "          if (!dataTable) return;\n",
              "\n",
              "          const docLinkHtml = 'Like what you see? Visit the ' +\n",
              "            '<a target=\"_blank\" href=https://colab.research.google.com/notebooks/data_table.ipynb>data table notebook</a>'\n",
              "            + ' to learn more about interactive tables.';\n",
              "          element.innerHTML = '';\n",
              "          dataTable['output_type'] = 'display_data';\n",
              "          await google.colab.output.renderOutput(dataTable, element);\n",
              "          const docLink = document.createElement('div');\n",
              "          docLink.innerHTML = docLinkHtml;\n",
              "          element.appendChild(docLink);\n",
              "        }\n",
              "      </script>\n",
              "    </div>\n",
              "  </div>\n",
              "  "
            ]
          },
          "metadata": {},
          "execution_count": 51
        }
      ]
    },
    {
      "cell_type": "code",
      "source": [
        "X_raw = df.drop(columns=['target']).to_numpy ()\n",
        "y = df['target'].to_numpy ()"
      ],
      "metadata": {
        "id": "7evAu0pSU2wm"
      },
      "execution_count": null,
      "outputs": []
    },
    {
      "cell_type": "markdown",
      "source": [
        "### 2. Самостоятельно реализуйте логистическую регрессию, без использования метода LogisticRegression из библиотеки. Можете использовать библиотеки pandas, numpy, math для реализации. Оформите в виде функции.\n",
        "\n",
        "*Оформите в виде класса с методами."
      ],
      "metadata": {
        "id": "tGBUGus6HZLO"
      }
    },
    {
      "cell_type": "code",
      "source": [
        "def standardize_intercept(X):\n",
        "    '''Функция для стандартизации данных'''\n",
        "    std_X = (X - X.mean(0) ) / X.std(0)\n",
        "    print(f'Среднее отклонение:\\n{std_X.mean(axis=0)}\\n')\n",
        "    print(f'Стандартное отклонение:\\n{std_X.std(axis=0)}')\n",
        "    return std_X"
      ],
      "metadata": {
        "id": "ghLJKOpbLxKx"
      },
      "execution_count": null,
      "outputs": []
    },
    {
      "cell_type": "code",
      "source": [
        "class LogisticRegression:\n",
        "    def __init__(self, learning_rate=0.001, epoch=10000, intercept=False, gamma=0.0001, optimization='gd', alpha=0.9, beta_1=0.9, beta_2=0.999, epsilon=1e-8):\n",
        "        # инициализация скорости обучения, количества итераций, степени точности, алгоритма оптимизации, весов\n",
        "        self.learning_rate = learning_rate\n",
        "        self.epoch = epoch\n",
        "        self.intercept = intercept\n",
        "        self.optimization = optimization\n",
        "        self.gamma = gamma\n",
        "        self.weights = None\n",
        "        self.alpha = alpha\n",
        "        self.beta_1 = beta_1\n",
        "        self.beta_2 = beta_2\n",
        "        self.epsilon = epsilon\n",
        "\n",
        "    def add_intercept(self, X):\n",
        "        # смещение\n",
        "        return np.concatenate((np.ones((X.shape[0], 1)), X), axis=1)\n",
        "\n",
        "    def sigmoid(self, x):\n",
        "        # вычисление сигмоиды\n",
        "        return 1 / (1 + np.exp(-x))\n",
        "\n",
        "    def logloss(self, y, y_pred):\n",
        "        # вычисление средней кросс-энтропийной потери\n",
        "        return -np.mean(y * np.log(y_pred) + (1 - y) * np.log(1 - y_pred))\n",
        "\n",
        "    def fit(self, X, y):\n",
        "        # if self.intercept:\n",
        "        #     X = self.add_intercept(X)\n",
        "\n",
        "        # заполнение весов нулями\n",
        "        self.weights = np.zeros(X.shape[1])\n",
        "        _weights = self.weights\n",
        "\n",
        "        v = np.zeros(self.weights.shape)\n",
        "        mw = np.zeros(self.weights.shape)\n",
        "        vw = np.zeros(self.weights.shape)\n",
        "\n",
        "        for i in range(self.epoch):\n",
        "            # итерируем для нахождения минимума\n",
        "            y_pred = self.sigmoid(X @ self.weights)\n",
        "\n",
        "            # вычисление градиента\n",
        "            gradient = X.T @ (y_pred - y) / y.size\n",
        "\n",
        "            if self.optimization == 'gd':\n",
        "                # оптимизация по методу градиентного спуска\n",
        "                self.weights = _weights - self.learning_rate * gradient\n",
        "\n",
        "            if self.optimization == 'rmsprop':\n",
        "                # оптимизация по методу скользящего среднего\n",
        "                v = self.alpha * v + (1 - self.alpha) * gradient**2\n",
        "                self.weights = _weights - self.learning_rate * gradient / (np.sqrt(v) + self.epsilon)\n",
        "\n",
        "            if self.optimization == 'nadam':\n",
        "                # оптимизация ускоренного по Нестерову метода адаптивной оценки моментов\n",
        "                mw = self.beta_1 * mw + (1 - self.beta_1) * gradient\n",
        "                vw = self.beta_2 * vw + (1 - self.beta_2) * gradient**2\n",
        "                _mw = mw / (1 - self.beta_1**(i + 1))\n",
        "                _vw = vw / (1 - self.beta_2**(i + 1))\n",
        "                self.weights -= self.learning_rate * _mw / (np.sqrt(_vw) + self.epsilon)\n",
        "\n",
        "            if np.linalg.norm(_weights - self.weights) <= self.gamma:\n",
        "                # выход из цикла при достижении необходимой степени точности\n",
        "                print(f'Количество итераций для нахождения оптимальных весов (при epsilon = {self.gamma}): {i}')\n",
        "                break\n",
        "\n",
        "    def predict_proba(self, X):\n",
        "        # предсказание вероятностей\n",
        "        return self.sigmoid(X @ self.weights)\n",
        "\n",
        "    def predict(self, X, threshold=0.5):\n",
        "        # классификация\n",
        "        return self.predict_proba(X) >= threshold\n",
        "\n",
        "    def accuracy(self, X, y):\n",
        "        # вычисление accuracy\n",
        "        print(f'Accuracy: {(self.predict(X) == y).mean()}')\n"
      ],
      "metadata": {
        "id": "YeV0nPN43Na6"
      },
      "execution_count": null,
      "outputs": []
    },
    {
      "cell_type": "code",
      "source": [
        "X = standardize(X_raw)"
      ],
      "metadata": {
        "id": "yugaLkvmURg5",
        "colab": {
          "base_uri": "https://localhost:8080/"
        },
        "outputId": "850b5f72-551d-40a1-cf74-adfae65cc72a"
      },
      "execution_count": null,
      "outputs": [
        {
          "output_type": "stream",
          "name": "stdout",
          "text": [
            "Среднее отклонение:\n",
            "[ 3.28848060e-15 -3.63598041e-15 -5.42066392e-16 -1.28397293e-15]\n",
            "\n",
            "Стандартное отклонение:\n",
            "[1. 1. 1. 1.]\n"
          ]
        }
      ]
    },
    {
      "cell_type": "code",
      "source": [
        "from sklearn.model_selection import train_test_split\n",
        "X_train, X_test, y_train, y_test = train_test_split(X, y, test_size = 0.25, random_state = 42)"
      ],
      "metadata": {
        "id": "xz_HO8BvazQb"
      },
      "execution_count": null,
      "outputs": []
    },
    {
      "cell_type": "markdown",
      "source": [
        "### Реализуйте метод градиентного спуска. Обучите логистическую регрессию этим методом. Выберете и посчитайте метрику качества. Метрика должна быть одинакова для всех пунктов домашнего задания. Для упрощения сравнения выберете только одну метрику."
      ],
      "metadata": {
        "id": "6aCIV5QgBx3V"
      }
    },
    {
      "cell_type": "code",
      "source": [
        "# обучение модели методом градиентного спуска\n",
        "clf_gd = LogisticRegression() \n",
        "%time clf_gd.fit(X_train, y_train)\n",
        "clf_gd.accuracy(X_train, y_train)"
      ],
      "metadata": {
        "id": "t3Wje79aUqbU",
        "colab": {
          "base_uri": "https://localhost:8080/"
        },
        "outputId": "7fe761fc-b6fe-4b3f-bb93-65b58faaa64c"
      },
      "execution_count": null,
      "outputs": [
        {
          "output_type": "stream",
          "name": "stdout",
          "text": [
            "CPU times: user 143 ms, sys: 316 µs, total: 143 ms\n",
            "Wall time: 143 ms\n",
            "Accuracy: 0.9333333333333333\n"
          ]
        }
      ]
    },
    {
      "cell_type": "code",
      "source": [
        "# проверка на тестовой выборке\n",
        "clf_gd.accuracy(X_test, y_test)"
      ],
      "metadata": {
        "colab": {
          "base_uri": "https://localhost:8080/"
        },
        "id": "OSx6hSmEbHA_",
        "outputId": "9faed6fe-b0b8-4e7a-fd6a-0cb6e61fe745"
      },
      "execution_count": null,
      "outputs": [
        {
          "output_type": "stream",
          "name": "stdout",
          "text": [
            "Accuracy: 0.88\n"
          ]
        }
      ]
    },
    {
      "cell_type": "markdown",
      "source": [
        "### Повторите п. 3 для метода скользящего среднего (Root Mean Square Propagation, RMSProp)."
      ],
      "metadata": {
        "id": "7jktNiIBCEt9"
      }
    },
    {
      "cell_type": "code",
      "source": [
        "# обучение модели методом RMSProp\n",
        "clf_rmsp = LogisticRegression(optimization='rmsprop') \n",
        "%time clf_rmsp.fit(X_train, y_train)\n",
        "clf_rmsp.accuracy(X_train, y_train)"
      ],
      "metadata": {
        "colab": {
          "base_uri": "https://localhost:8080/"
        },
        "id": "JdGkKMoPS37r",
        "outputId": "e37386aa-92bd-4552-f68d-178a30bf0c75"
      },
      "execution_count": null,
      "outputs": [
        {
          "output_type": "stream",
          "name": "stdout",
          "text": [
            "CPU times: user 192 ms, sys: 0 ns, total: 192 ms\n",
            "Wall time: 195 ms\n",
            "Accuracy: 0.8\n"
          ]
        }
      ]
    },
    {
      "cell_type": "code",
      "source": [
        "# проверка на тестовой выборке\n",
        "clf_rmsp.accuracy(X_test, y_test)"
      ],
      "metadata": {
        "colab": {
          "base_uri": "https://localhost:8080/"
        },
        "id": "caPExxJNbWTh",
        "outputId": "b2bd9f6e-7817-4916-ff49-18c7c17e8323"
      },
      "execution_count": null,
      "outputs": [
        {
          "output_type": "stream",
          "name": "stdout",
          "text": [
            "Accuracy: 0.8\n"
          ]
        }
      ]
    },
    {
      "cell_type": "markdown",
      "source": [
        "### Повторите для ускоренного по Нестерову метода адаптивной оценки моментов (Nesterov–accelerated Adaptive Moment Estimation, Nadam)."
      ],
      "metadata": {
        "id": "pmB2zOdJCHmG"
      }
    },
    {
      "cell_type": "code",
      "source": [
        "# обучение модели методом Nadam\n",
        "clf_nadam = LogisticRegression(optimization='nadam')\n",
        "%time clf_nadam.fit(X_train, y_train)\n",
        "clf_nadam.accuracy(X_train, y_train)"
      ],
      "metadata": {
        "colab": {
          "base_uri": "https://localhost:8080/"
        },
        "id": "iHKp_QTYSA-1",
        "outputId": "d502315b-bca1-4e5f-e892-f93922b49b85"
      },
      "execution_count": null,
      "outputs": [
        {
          "output_type": "stream",
          "name": "stdout",
          "text": [
            "Количество итераций для нахождения оптимальных весов (при epsilon = 0.0001): 0\n",
            "CPU times: user 822 µs, sys: 933 µs, total: 1.75 ms\n",
            "Wall time: 1.76 ms\n",
            "Accuracy: 0.8\n"
          ]
        }
      ]
    },
    {
      "cell_type": "code",
      "source": [
        "# проверка на тестовой выборке\n",
        "clf_nadam.accuracy(X_test, y_test)"
      ],
      "metadata": {
        "colab": {
          "base_uri": "https://localhost:8080/"
        },
        "id": "CjOFHZ9sTWSn",
        "outputId": "cc68c95b-7394-4a63-8fdf-08eeaa8fd9f9"
      },
      "execution_count": null,
      "outputs": [
        {
          "output_type": "stream",
          "name": "stdout",
          "text": [
            "Accuracy: 0.8\n"
          ]
        }
      ]
    },
    {
      "cell_type": "markdown",
      "source": [
        "### Сравните значение метрик для реализованных методов оптимизации. Можно оформить в виде таблицы вида |метод|метрика|время работы| (время работы опционально). Напишите вывод."
      ],
      "metadata": {
        "id": "ZIpHTUy0oN5x"
      }
    },
    {
      "cell_type": "markdown",
      "source": [
        "|Метод | Метрика | Время работы|\n",
        "|:-  |:-:| -:|\n",
        "|GD | 0.9333 |  143ms|\n",
        "|RMSProp | 0.8  | 195ms|\n",
        "|Nadam | 0.8 | 1.76ms|\n",
        "\n",
        "Реализована логистическая регрессия с 3-мя методами оптимизации."
      ],
      "metadata": {
        "id": "KmXxTNFHof7d"
      }
    }
  ],
  "metadata": {
    "kernelspec": {
      "display_name": "Python 3",
      "language": "python",
      "name": "python3"
    },
    "language_info": {
      "codemirror_mode": {
        "name": "ipython",
        "version": 3
      },
      "file_extension": ".py",
      "mimetype": "text/x-python",
      "name": "python",
      "nbconvert_exporter": "python",
      "pygments_lexer": "ipython3",
      "version": "3.11.1"
    },
    "orig_nbformat": 4,
    "vscode": {
      "interpreter": {
        "hash": "52ea2ca0cf4bb94bf654725d2c871d77a8d512c1dfdc1b341e46f6fc15a3f668"
      }
    },
    "colab": {
      "provenance": []
    }
  },
  "nbformat": 4,
  "nbformat_minor": 0
}