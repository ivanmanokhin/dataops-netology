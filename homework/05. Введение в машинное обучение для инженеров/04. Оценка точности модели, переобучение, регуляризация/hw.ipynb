{
  "nbformat": 4,
  "nbformat_minor": 0,
  "metadata": {
    "colab": {
      "provenance": []
    },
    "kernelspec": {
      "name": "python3",
      "display_name": "Python 3"
    },
    "language_info": {
      "name": "python"
    }
  },
  "cells": [
    {
      "cell_type": "markdown",
      "source": [
        "## Домашнее задание по теме: \"Оценка точности модели, переобучение, регуляризация\""
      ],
      "metadata": {
        "id": "cwFeF2fmG39o"
      }
    },
    {
      "cell_type": "markdown",
      "source": [
        "Описание задания:\n",
        "\n",
        "Решить задачу классификации при помощи обучения модели логистической регрессии. Качество модели оценивается путем подсчета метрик TPR, FPR и построения графиков ROC-кривой, Precision-Recall. Данные для обучения модели хранятся в файле athletes.csv, который можно найти в материалах к занятию."
      ],
      "metadata": {
        "id": "CjHxomEhG7gX"
      }
    },
    {
      "cell_type": "markdown",
      "source": [
        "### 1. Преобразуйте данные:\n",
        "\n",
        "---\n",
        "\n",
        "a. проверьте наличие пропущенных значений. Преобразуйте/удалите пропуски по необходимости;\n",
        "\n",
        "b. закодируйте категориальные переменные числовыми значениями по необходимости."
      ],
      "metadata": {
        "id": "6qgfBFY5fgUr"
      }
    },
    {
      "cell_type": "code",
      "source": [
        "import pandas as pd\n",
        "import numpy as np\n",
        "import matplotlib.pyplot as plt\n",
        "%matplotlib inline\n",
        "from sklearn.preprocessing import LabelEncoder\n",
        "#from sklearn.preprocessing import StandardScaler\n",
        "from sklearn.model_selection import train_test_split\n",
        "from sklearn.metrics import roc_curve"
      ],
      "metadata": {
        "id": "SJFTtqClHFSa"
      },
      "execution_count": null,
      "outputs": []
    },
    {
      "cell_type": "code",
      "source": [
        "# для загрузки csv на google colab\n",
        "from google.colab import files\n",
        "uploaded = files.upload()"
      ],
      "metadata": {
        "colab": {
          "base_uri": "https://localhost:8080/",
          "height": 72
        },
        "id": "WaGM2Wt1HFZv",
        "outputId": "a440d4bc-57f1-4c17-f8a9-f0f71be0983a"
      },
      "execution_count": null,
      "outputs": [
        {
          "output_type": "display_data",
          "data": {
            "text/plain": [
              "<IPython.core.display.HTML object>"
            ],
            "text/html": [
              "\n",
              "     <input type=\"file\" id=\"files-3244674f-ec42-4385-966a-9c377e4bf100\" name=\"files[]\" multiple disabled\n",
              "        style=\"border:none\" />\n",
              "     <output id=\"result-3244674f-ec42-4385-966a-9c377e4bf100\">\n",
              "      Upload widget is only available when the cell has been executed in the\n",
              "      current browser session. Please rerun this cell to enable.\n",
              "      </output>\n",
              "      <script>// Copyright 2017 Google LLC\n",
              "//\n",
              "// Licensed under the Apache License, Version 2.0 (the \"License\");\n",
              "// you may not use this file except in compliance with the License.\n",
              "// You may obtain a copy of the License at\n",
              "//\n",
              "//      http://www.apache.org/licenses/LICENSE-2.0\n",
              "//\n",
              "// Unless required by applicable law or agreed to in writing, software\n",
              "// distributed under the License is distributed on an \"AS IS\" BASIS,\n",
              "// WITHOUT WARRANTIES OR CONDITIONS OF ANY KIND, either express or implied.\n",
              "// See the License for the specific language governing permissions and\n",
              "// limitations under the License.\n",
              "\n",
              "/**\n",
              " * @fileoverview Helpers for google.colab Python module.\n",
              " */\n",
              "(function(scope) {\n",
              "function span(text, styleAttributes = {}) {\n",
              "  const element = document.createElement('span');\n",
              "  element.textContent = text;\n",
              "  for (const key of Object.keys(styleAttributes)) {\n",
              "    element.style[key] = styleAttributes[key];\n",
              "  }\n",
              "  return element;\n",
              "}\n",
              "\n",
              "// Max number of bytes which will be uploaded at a time.\n",
              "const MAX_PAYLOAD_SIZE = 100 * 1024;\n",
              "\n",
              "function _uploadFiles(inputId, outputId) {\n",
              "  const steps = uploadFilesStep(inputId, outputId);\n",
              "  const outputElement = document.getElementById(outputId);\n",
              "  // Cache steps on the outputElement to make it available for the next call\n",
              "  // to uploadFilesContinue from Python.\n",
              "  outputElement.steps = steps;\n",
              "\n",
              "  return _uploadFilesContinue(outputId);\n",
              "}\n",
              "\n",
              "// This is roughly an async generator (not supported in the browser yet),\n",
              "// where there are multiple asynchronous steps and the Python side is going\n",
              "// to poll for completion of each step.\n",
              "// This uses a Promise to block the python side on completion of each step,\n",
              "// then passes the result of the previous step as the input to the next step.\n",
              "function _uploadFilesContinue(outputId) {\n",
              "  const outputElement = document.getElementById(outputId);\n",
              "  const steps = outputElement.steps;\n",
              "\n",
              "  const next = steps.next(outputElement.lastPromiseValue);\n",
              "  return Promise.resolve(next.value.promise).then((value) => {\n",
              "    // Cache the last promise value to make it available to the next\n",
              "    // step of the generator.\n",
              "    outputElement.lastPromiseValue = value;\n",
              "    return next.value.response;\n",
              "  });\n",
              "}\n",
              "\n",
              "/**\n",
              " * Generator function which is called between each async step of the upload\n",
              " * process.\n",
              " * @param {string} inputId Element ID of the input file picker element.\n",
              " * @param {string} outputId Element ID of the output display.\n",
              " * @return {!Iterable<!Object>} Iterable of next steps.\n",
              " */\n",
              "function* uploadFilesStep(inputId, outputId) {\n",
              "  const inputElement = document.getElementById(inputId);\n",
              "  inputElement.disabled = false;\n",
              "\n",
              "  const outputElement = document.getElementById(outputId);\n",
              "  outputElement.innerHTML = '';\n",
              "\n",
              "  const pickedPromise = new Promise((resolve) => {\n",
              "    inputElement.addEventListener('change', (e) => {\n",
              "      resolve(e.target.files);\n",
              "    });\n",
              "  });\n",
              "\n",
              "  const cancel = document.createElement('button');\n",
              "  inputElement.parentElement.appendChild(cancel);\n",
              "  cancel.textContent = 'Cancel upload';\n",
              "  const cancelPromise = new Promise((resolve) => {\n",
              "    cancel.onclick = () => {\n",
              "      resolve(null);\n",
              "    };\n",
              "  });\n",
              "\n",
              "  // Wait for the user to pick the files.\n",
              "  const files = yield {\n",
              "    promise: Promise.race([pickedPromise, cancelPromise]),\n",
              "    response: {\n",
              "      action: 'starting',\n",
              "    }\n",
              "  };\n",
              "\n",
              "  cancel.remove();\n",
              "\n",
              "  // Disable the input element since further picks are not allowed.\n",
              "  inputElement.disabled = true;\n",
              "\n",
              "  if (!files) {\n",
              "    return {\n",
              "      response: {\n",
              "        action: 'complete',\n",
              "      }\n",
              "    };\n",
              "  }\n",
              "\n",
              "  for (const file of files) {\n",
              "    const li = document.createElement('li');\n",
              "    li.append(span(file.name, {fontWeight: 'bold'}));\n",
              "    li.append(span(\n",
              "        `(${file.type || 'n/a'}) - ${file.size} bytes, ` +\n",
              "        `last modified: ${\n",
              "            file.lastModifiedDate ? file.lastModifiedDate.toLocaleDateString() :\n",
              "                                    'n/a'} - `));\n",
              "    const percent = span('0% done');\n",
              "    li.appendChild(percent);\n",
              "\n",
              "    outputElement.appendChild(li);\n",
              "\n",
              "    const fileDataPromise = new Promise((resolve) => {\n",
              "      const reader = new FileReader();\n",
              "      reader.onload = (e) => {\n",
              "        resolve(e.target.result);\n",
              "      };\n",
              "      reader.readAsArrayBuffer(file);\n",
              "    });\n",
              "    // Wait for the data to be ready.\n",
              "    let fileData = yield {\n",
              "      promise: fileDataPromise,\n",
              "      response: {\n",
              "        action: 'continue',\n",
              "      }\n",
              "    };\n",
              "\n",
              "    // Use a chunked sending to avoid message size limits. See b/62115660.\n",
              "    let position = 0;\n",
              "    do {\n",
              "      const length = Math.min(fileData.byteLength - position, MAX_PAYLOAD_SIZE);\n",
              "      const chunk = new Uint8Array(fileData, position, length);\n",
              "      position += length;\n",
              "\n",
              "      const base64 = btoa(String.fromCharCode.apply(null, chunk));\n",
              "      yield {\n",
              "        response: {\n",
              "          action: 'append',\n",
              "          file: file.name,\n",
              "          data: base64,\n",
              "        },\n",
              "      };\n",
              "\n",
              "      let percentDone = fileData.byteLength === 0 ?\n",
              "          100 :\n",
              "          Math.round((position / fileData.byteLength) * 100);\n",
              "      percent.textContent = `${percentDone}% done`;\n",
              "\n",
              "    } while (position < fileData.byteLength);\n",
              "  }\n",
              "\n",
              "  // All done.\n",
              "  yield {\n",
              "    response: {\n",
              "      action: 'complete',\n",
              "    }\n",
              "  };\n",
              "}\n",
              "\n",
              "scope.google = scope.google || {};\n",
              "scope.google.colab = scope.google.colab || {};\n",
              "scope.google.colab._files = {\n",
              "  _uploadFiles,\n",
              "  _uploadFilesContinue,\n",
              "};\n",
              "})(self);\n",
              "</script> "
            ]
          },
          "metadata": {}
        },
        {
          "output_type": "stream",
          "name": "stdout",
          "text": [
            "Saving athletes.csv to athletes.csv\n"
          ]
        }
      ]
    },
    {
      "cell_type": "code",
      "source": [
        "# создаем датафрейм из csv\n",
        "df = pd.read_csv('./athletes.csv')\n",
        "df.describe(include = \"all\")"
      ],
      "metadata": {
        "colab": {
          "base_uri": "https://localhost:8080/",
          "height": 394
        },
        "id": "-Tsg-Hy6fzLF",
        "outputId": "966fae52-ff64-4e30-fa04-ada81d90e373"
      },
      "execution_count": null,
      "outputs": [
        {
          "output_type": "execute_result",
          "data": {
            "text/plain": [
              "                  id           name nationality    sex      dob        height  \\\n",
              "count   1.153800e+04          11538       11538  11538    11537  11208.000000   \n",
              "unique           NaN          11517         207      2     5595           NaN   \n",
              "top              NaN  Ahmed Mohamed         USA   male  2/18/93           NaN   \n",
              "freq             NaN              2         567   6333        9           NaN   \n",
              "mean    4.999885e+08            NaN         NaN    NaN      NaN      1.766282   \n",
              "std     2.908648e+08            NaN         NaN    NaN      NaN      0.112719   \n",
              "min     1.834700e+04            NaN         NaN    NaN      NaN      1.210000   \n",
              "25%     2.450997e+08            NaN         NaN    NaN      NaN      1.690000   \n",
              "50%     5.002011e+08            NaN         NaN    NaN      NaN      1.760000   \n",
              "75%     7.539874e+08            NaN         NaN    NaN      NaN      1.840000   \n",
              "max     9.999878e+08            NaN         NaN    NaN      NaN      2.210000   \n",
              "\n",
              "              weight      sport          gold        silver        bronze  \n",
              "count   10879.000000      11538  11538.000000  11538.000000  11538.000000  \n",
              "unique           NaN         28           NaN           NaN           NaN  \n",
              "top              NaN  athletics           NaN           NaN           NaN  \n",
              "freq             NaN       2363           NaN           NaN           NaN  \n",
              "mean       72.068205        NaN      0.057722      0.056769      0.061016  \n",
              "std        16.177334        NaN      0.255910      0.239147      0.243320  \n",
              "min        31.000000        NaN      0.000000      0.000000      0.000000  \n",
              "25%        60.000000        NaN      0.000000      0.000000      0.000000  \n",
              "50%        70.000000        NaN      0.000000      0.000000      0.000000  \n",
              "75%        81.000000        NaN      0.000000      0.000000      0.000000  \n",
              "max       170.000000        NaN      5.000000      2.000000      2.000000  "
            ],
            "text/html": [
              "\n",
              "  <div id=\"df-a487284a-ae5e-4847-926d-225d9f515240\">\n",
              "    <div class=\"colab-df-container\">\n",
              "      <div>\n",
              "<style scoped>\n",
              "    .dataframe tbody tr th:only-of-type {\n",
              "        vertical-align: middle;\n",
              "    }\n",
              "\n",
              "    .dataframe tbody tr th {\n",
              "        vertical-align: top;\n",
              "    }\n",
              "\n",
              "    .dataframe thead th {\n",
              "        text-align: right;\n",
              "    }\n",
              "</style>\n",
              "<table border=\"1\" class=\"dataframe\">\n",
              "  <thead>\n",
              "    <tr style=\"text-align: right;\">\n",
              "      <th></th>\n",
              "      <th>id</th>\n",
              "      <th>name</th>\n",
              "      <th>nationality</th>\n",
              "      <th>sex</th>\n",
              "      <th>dob</th>\n",
              "      <th>height</th>\n",
              "      <th>weight</th>\n",
              "      <th>sport</th>\n",
              "      <th>gold</th>\n",
              "      <th>silver</th>\n",
              "      <th>bronze</th>\n",
              "    </tr>\n",
              "  </thead>\n",
              "  <tbody>\n",
              "    <tr>\n",
              "      <th>count</th>\n",
              "      <td>1.153800e+04</td>\n",
              "      <td>11538</td>\n",
              "      <td>11538</td>\n",
              "      <td>11538</td>\n",
              "      <td>11537</td>\n",
              "      <td>11208.000000</td>\n",
              "      <td>10879.000000</td>\n",
              "      <td>11538</td>\n",
              "      <td>11538.000000</td>\n",
              "      <td>11538.000000</td>\n",
              "      <td>11538.000000</td>\n",
              "    </tr>\n",
              "    <tr>\n",
              "      <th>unique</th>\n",
              "      <td>NaN</td>\n",
              "      <td>11517</td>\n",
              "      <td>207</td>\n",
              "      <td>2</td>\n",
              "      <td>5595</td>\n",
              "      <td>NaN</td>\n",
              "      <td>NaN</td>\n",
              "      <td>28</td>\n",
              "      <td>NaN</td>\n",
              "      <td>NaN</td>\n",
              "      <td>NaN</td>\n",
              "    </tr>\n",
              "    <tr>\n",
              "      <th>top</th>\n",
              "      <td>NaN</td>\n",
              "      <td>Ahmed Mohamed</td>\n",
              "      <td>USA</td>\n",
              "      <td>male</td>\n",
              "      <td>2/18/93</td>\n",
              "      <td>NaN</td>\n",
              "      <td>NaN</td>\n",
              "      <td>athletics</td>\n",
              "      <td>NaN</td>\n",
              "      <td>NaN</td>\n",
              "      <td>NaN</td>\n",
              "    </tr>\n",
              "    <tr>\n",
              "      <th>freq</th>\n",
              "      <td>NaN</td>\n",
              "      <td>2</td>\n",
              "      <td>567</td>\n",
              "      <td>6333</td>\n",
              "      <td>9</td>\n",
              "      <td>NaN</td>\n",
              "      <td>NaN</td>\n",
              "      <td>2363</td>\n",
              "      <td>NaN</td>\n",
              "      <td>NaN</td>\n",
              "      <td>NaN</td>\n",
              "    </tr>\n",
              "    <tr>\n",
              "      <th>mean</th>\n",
              "      <td>4.999885e+08</td>\n",
              "      <td>NaN</td>\n",
              "      <td>NaN</td>\n",
              "      <td>NaN</td>\n",
              "      <td>NaN</td>\n",
              "      <td>1.766282</td>\n",
              "      <td>72.068205</td>\n",
              "      <td>NaN</td>\n",
              "      <td>0.057722</td>\n",
              "      <td>0.056769</td>\n",
              "      <td>0.061016</td>\n",
              "    </tr>\n",
              "    <tr>\n",
              "      <th>std</th>\n",
              "      <td>2.908648e+08</td>\n",
              "      <td>NaN</td>\n",
              "      <td>NaN</td>\n",
              "      <td>NaN</td>\n",
              "      <td>NaN</td>\n",
              "      <td>0.112719</td>\n",
              "      <td>16.177334</td>\n",
              "      <td>NaN</td>\n",
              "      <td>0.255910</td>\n",
              "      <td>0.239147</td>\n",
              "      <td>0.243320</td>\n",
              "    </tr>\n",
              "    <tr>\n",
              "      <th>min</th>\n",
              "      <td>1.834700e+04</td>\n",
              "      <td>NaN</td>\n",
              "      <td>NaN</td>\n",
              "      <td>NaN</td>\n",
              "      <td>NaN</td>\n",
              "      <td>1.210000</td>\n",
              "      <td>31.000000</td>\n",
              "      <td>NaN</td>\n",
              "      <td>0.000000</td>\n",
              "      <td>0.000000</td>\n",
              "      <td>0.000000</td>\n",
              "    </tr>\n",
              "    <tr>\n",
              "      <th>25%</th>\n",
              "      <td>2.450997e+08</td>\n",
              "      <td>NaN</td>\n",
              "      <td>NaN</td>\n",
              "      <td>NaN</td>\n",
              "      <td>NaN</td>\n",
              "      <td>1.690000</td>\n",
              "      <td>60.000000</td>\n",
              "      <td>NaN</td>\n",
              "      <td>0.000000</td>\n",
              "      <td>0.000000</td>\n",
              "      <td>0.000000</td>\n",
              "    </tr>\n",
              "    <tr>\n",
              "      <th>50%</th>\n",
              "      <td>5.002011e+08</td>\n",
              "      <td>NaN</td>\n",
              "      <td>NaN</td>\n",
              "      <td>NaN</td>\n",
              "      <td>NaN</td>\n",
              "      <td>1.760000</td>\n",
              "      <td>70.000000</td>\n",
              "      <td>NaN</td>\n",
              "      <td>0.000000</td>\n",
              "      <td>0.000000</td>\n",
              "      <td>0.000000</td>\n",
              "    </tr>\n",
              "    <tr>\n",
              "      <th>75%</th>\n",
              "      <td>7.539874e+08</td>\n",
              "      <td>NaN</td>\n",
              "      <td>NaN</td>\n",
              "      <td>NaN</td>\n",
              "      <td>NaN</td>\n",
              "      <td>1.840000</td>\n",
              "      <td>81.000000</td>\n",
              "      <td>NaN</td>\n",
              "      <td>0.000000</td>\n",
              "      <td>0.000000</td>\n",
              "      <td>0.000000</td>\n",
              "    </tr>\n",
              "    <tr>\n",
              "      <th>max</th>\n",
              "      <td>9.999878e+08</td>\n",
              "      <td>NaN</td>\n",
              "      <td>NaN</td>\n",
              "      <td>NaN</td>\n",
              "      <td>NaN</td>\n",
              "      <td>2.210000</td>\n",
              "      <td>170.000000</td>\n",
              "      <td>NaN</td>\n",
              "      <td>5.000000</td>\n",
              "      <td>2.000000</td>\n",
              "      <td>2.000000</td>\n",
              "    </tr>\n",
              "  </tbody>\n",
              "</table>\n",
              "</div>\n",
              "      <button class=\"colab-df-convert\" onclick=\"convertToInteractive('df-a487284a-ae5e-4847-926d-225d9f515240')\"\n",
              "              title=\"Convert this dataframe to an interactive table.\"\n",
              "              style=\"display:none;\">\n",
              "        \n",
              "  <svg xmlns=\"http://www.w3.org/2000/svg\" height=\"24px\"viewBox=\"0 0 24 24\"\n",
              "       width=\"24px\">\n",
              "    <path d=\"M0 0h24v24H0V0z\" fill=\"none\"/>\n",
              "    <path d=\"M18.56 5.44l.94 2.06.94-2.06 2.06-.94-2.06-.94-.94-2.06-.94 2.06-2.06.94zm-11 1L8.5 8.5l.94-2.06 2.06-.94-2.06-.94L8.5 2.5l-.94 2.06-2.06.94zm10 10l.94 2.06.94-2.06 2.06-.94-2.06-.94-.94-2.06-.94 2.06-2.06.94z\"/><path d=\"M17.41 7.96l-1.37-1.37c-.4-.4-.92-.59-1.43-.59-.52 0-1.04.2-1.43.59L10.3 9.45l-7.72 7.72c-.78.78-.78 2.05 0 2.83L4 21.41c.39.39.9.59 1.41.59.51 0 1.02-.2 1.41-.59l7.78-7.78 2.81-2.81c.8-.78.8-2.07 0-2.86zM5.41 20L4 18.59l7.72-7.72 1.47 1.35L5.41 20z\"/>\n",
              "  </svg>\n",
              "      </button>\n",
              "      \n",
              "  <style>\n",
              "    .colab-df-container {\n",
              "      display:flex;\n",
              "      flex-wrap:wrap;\n",
              "      gap: 12px;\n",
              "    }\n",
              "\n",
              "    .colab-df-convert {\n",
              "      background-color: #E8F0FE;\n",
              "      border: none;\n",
              "      border-radius: 50%;\n",
              "      cursor: pointer;\n",
              "      display: none;\n",
              "      fill: #1967D2;\n",
              "      height: 32px;\n",
              "      padding: 0 0 0 0;\n",
              "      width: 32px;\n",
              "    }\n",
              "\n",
              "    .colab-df-convert:hover {\n",
              "      background-color: #E2EBFA;\n",
              "      box-shadow: 0px 1px 2px rgba(60, 64, 67, 0.3), 0px 1px 3px 1px rgba(60, 64, 67, 0.15);\n",
              "      fill: #174EA6;\n",
              "    }\n",
              "\n",
              "    [theme=dark] .colab-df-convert {\n",
              "      background-color: #3B4455;\n",
              "      fill: #D2E3FC;\n",
              "    }\n",
              "\n",
              "    [theme=dark] .colab-df-convert:hover {\n",
              "      background-color: #434B5C;\n",
              "      box-shadow: 0px 1px 3px 1px rgba(0, 0, 0, 0.15);\n",
              "      filter: drop-shadow(0px 1px 2px rgba(0, 0, 0, 0.3));\n",
              "      fill: #FFFFFF;\n",
              "    }\n",
              "  </style>\n",
              "\n",
              "      <script>\n",
              "        const buttonEl =\n",
              "          document.querySelector('#df-a487284a-ae5e-4847-926d-225d9f515240 button.colab-df-convert');\n",
              "        buttonEl.style.display =\n",
              "          google.colab.kernel.accessAllowed ? 'block' : 'none';\n",
              "\n",
              "        async function convertToInteractive(key) {\n",
              "          const element = document.querySelector('#df-a487284a-ae5e-4847-926d-225d9f515240');\n",
              "          const dataTable =\n",
              "            await google.colab.kernel.invokeFunction('convertToInteractive',\n",
              "                                                     [key], {});\n",
              "          if (!dataTable) return;\n",
              "\n",
              "          const docLinkHtml = 'Like what you see? Visit the ' +\n",
              "            '<a target=\"_blank\" href=https://colab.research.google.com/notebooks/data_table.ipynb>data table notebook</a>'\n",
              "            + ' to learn more about interactive tables.';\n",
              "          element.innerHTML = '';\n",
              "          dataTable['output_type'] = 'display_data';\n",
              "          await google.colab.output.renderOutput(dataTable, element);\n",
              "          const docLink = document.createElement('div');\n",
              "          docLink.innerHTML = docLinkHtml;\n",
              "          element.appendChild(docLink);\n",
              "        }\n",
              "      </script>\n",
              "    </div>\n",
              "  </div>\n",
              "  "
            ]
          },
          "metadata": {},
          "execution_count": 4
        }
      ]
    },
    {
      "cell_type": "code",
      "source": [
        "# удаляем ненужное\n",
        "df = df.drop(['id', 'name', 'nationality', 'dob'], axis=1)\n",
        "# проверка на пропуски\n",
        "df.isnull().sum()"
      ],
      "metadata": {
        "colab": {
          "base_uri": "https://localhost:8080/"
        },
        "id": "00XLCuwyf8k8",
        "outputId": "b0de3fdb-a15f-42be-e863-35f6e1dc2b27"
      },
      "execution_count": null,
      "outputs": [
        {
          "output_type": "execute_result",
          "data": {
            "text/plain": [
              "sex         0\n",
              "height    330\n",
              "weight    659\n",
              "sport       0\n",
              "gold        0\n",
              "silver      0\n",
              "bronze      0\n",
              "dtype: int64"
            ]
          },
          "metadata": {},
          "execution_count": 5
        }
      ]
    },
    {
      "cell_type": "code",
      "source": [
        "# заполнение отсутствующих значений роста и веса средними\n",
        "df.fillna(df.mean(), inplace = True)\n",
        "df.isnull().sum()"
      ],
      "metadata": {
        "colab": {
          "base_uri": "https://localhost:8080/"
        },
        "id": "9TF4PvyHgJaA",
        "outputId": "114ca847-de42-49b2-8f12-5a554dd739ad"
      },
      "execution_count": null,
      "outputs": [
        {
          "output_type": "stream",
          "name": "stderr",
          "text": [
            "<ipython-input-6-cf038d38153a>:2: FutureWarning: Dropping of nuisance columns in DataFrame reductions (with 'numeric_only=None') is deprecated; in a future version this will raise TypeError.  Select only valid columns before calling the reduction.\n",
            "  df.fillna(df.mean(), inplace = True)\n"
          ]
        },
        {
          "output_type": "execute_result",
          "data": {
            "text/plain": [
              "sex       0\n",
              "height    0\n",
              "weight    0\n",
              "sport     0\n",
              "gold      0\n",
              "silver    0\n",
              "bronze    0\n",
              "dtype: int64"
            ]
          },
          "metadata": {},
          "execution_count": 6
        }
      ]
    },
    {
      "cell_type": "code",
      "source": [
        "# бинарное кодирование пола\n",
        "le = LabelEncoder()\n",
        "df['sex'] = le.fit_transform(df['sex'])"
      ],
      "metadata": {
        "id": "SALx8iYPjYta"
      },
      "execution_count": null,
      "outputs": []
    },
    {
      "cell_type": "code",
      "source": [
        "# one hot encoding для преобразования категориального признака sport\n",
        "df = pd.get_dummies(df, columns=['sport'])"
      ],
      "metadata": {
        "id": "6eq8PrJ4orLD"
      },
      "execution_count": null,
      "outputs": []
    },
    {
      "cell_type": "markdown",
      "source": [
        "### 2. Разделите выборку на обучающее (80% данных) и тестовое (20% данных) подмножества\n",
        "\n",
        "---"
      ],
      "metadata": {
        "id": "Ktn_7JzvuCes"
      }
    },
    {
      "cell_type": "code",
      "source": [
        "X =  df.drop(['sex'], axis=1)\n",
        "y = df['sex']"
      ],
      "metadata": {
        "id": "M6VJxSAouFmE"
      },
      "execution_count": null,
      "outputs": []
    },
    {
      "cell_type": "code",
      "source": [
        "X_train, X_test, y_train, y_test = train_test_split(X, y, test_size = 0.20, random_state = 42)"
      ],
      "metadata": {
        "id": "JnywEuq3uuJY"
      },
      "execution_count": null,
      "outputs": []
    },
    {
      "cell_type": "markdown",
      "source": [
        "### 3. Постройте ROC-кривую с помощью функции sklearn.metrics. roc_curve.\n",
        "\n",
        "---"
      ],
      "metadata": {
        "id": "Ftt2lS6Pu-EG"
      }
    },
    {
      "cell_type": "code",
      "source": [
        "# обучаем модель\n",
        "from sklearn.linear_model import LogisticRegression\n",
        "clf = LogisticRegression(max_iter=1000)"
      ],
      "metadata": {
        "id": "LYl9mTsMvAeU"
      },
      "execution_count": null,
      "outputs": []
    },
    {
      "cell_type": "code",
      "source": [
        "clf.fit(X_train, y_train)"
      ],
      "metadata": {
        "colab": {
          "base_uri": "https://localhost:8080/"
        },
        "id": "D6OtX_fawfNi",
        "outputId": "71a96bce-50b8-4db1-a355-f342eeb393ca"
      },
      "execution_count": null,
      "outputs": [
        {
          "output_type": "execute_result",
          "data": {
            "text/plain": [
              "LogisticRegression(max_iter=1000)"
            ]
          },
          "metadata": {},
          "execution_count": 12
        }
      ]
    },
    {
      "cell_type": "code",
      "source": [
        "from sklearn.metrics import roc_curve"
      ],
      "metadata": {
        "id": "KoH0Me55wvef"
      },
      "execution_count": null,
      "outputs": []
    },
    {
      "cell_type": "code",
      "source": [
        "# вычисление вероятностей для тестовой выборки\n",
        "y_proba = clf.predict_proba(X_test)"
      ],
      "metadata": {
        "id": "C0P6oQtssF67"
      },
      "execution_count": null,
      "outputs": []
    },
    {
      "cell_type": "code",
      "source": [
        "# вычисление ROC-кривой\n",
        "fprs, tprs, thresholds = roc_curve(y_test, y_proba[:, 1])"
      ],
      "metadata": {
        "id": "yBkWn04isMJ_"
      },
      "execution_count": null,
      "outputs": []
    },
    {
      "cell_type": "code",
      "source": [
        "# построение график ROC-кривой\n",
        "plt.figure(figsize=(7, 5))\n",
        "plt.plot(fprs,tprs)\n",
        "plt.grid(axis = 'both')\n",
        "plt.ylabel('True Positive Rate')\n",
        "plt.xlabel('False Positive Rate')\n",
        "plt.title('ROC Curve')\n",
        "plt.show()"
      ],
      "metadata": {
        "colab": {
          "base_uri": "https://localhost:8080/",
          "height": 350
        },
        "id": "qgiti14Z0IIA",
        "outputId": "7910c9e5-96e9-46ed-abe6-75c43d17ce68"
      },
      "execution_count": null,
      "outputs": [
        {
          "output_type": "display_data",
          "data": {
            "text/plain": [
              "<Figure size 504x360 with 1 Axes>"
            ],
            "image/png": "[encoded data removed]"
          },
          "metadata": {
            "needs_background": "light"
          }
        }
      ]
    },
    {
      "cell_type": "markdown",
      "source": [
        "### 4. Вычислите значение ROC-AUC метрики с помощью функции sklearn.metrics.roc_auc_score.\n",
        "\n",
        "---"
      ],
      "metadata": {
        "id": "LKLr60vJ4Oe8"
      }
    },
    {
      "cell_type": "code",
      "source": [
        "# вычисление площади под ROC-Curve\n",
        "from sklearn.metrics import auc\n",
        "auc(fprs, tprs)"
      ],
      "metadata": {
        "colab": {
          "base_uri": "https://localhost:8080/"
        },
        "id": "aVcmTxUJ30Id",
        "outputId": "21c4af2b-1f60-4f64-f267-041d3c455da1"
      },
      "execution_count": null,
      "outputs": [
        {
          "output_type": "execute_result",
          "data": {
            "text/plain": [
              "0.8863247869732563"
            ]
          },
          "metadata": {},
          "execution_count": 18
        }
      ]
    },
    {
      "cell_type": "markdown",
      "source": [
        "### 5. Реализуйте подсчет метрик TPR, FPR «вручную», без использования готовых функций из библиотеки sklearn.\n",
        "\n",
        "---"
      ],
      "metadata": {
        "id": "UkoxGA064Uh7"
      }
    },
    {
      "cell_type": "code",
      "source": [
        "# создаем массив с вероятностями и настоящим классом\n",
        "df_pred = pd.DataFrame({\n",
        "    'y_prob': y_proba[:, 1],\n",
        "    'y_true': y_test\n",
        "})\n",
        "\n",
        "df_pred.sort_values(by='y_prob', inplace=True)"
      ],
      "metadata": {
        "id": "v8V6LizT4bnC"
      },
      "execution_count": null,
      "outputs": []
    },
    {
      "cell_type": "code",
      "source": [
        "def _roc_curve(probabilities, labels, thresholds, prre=False, debug=False):\n",
        "    '''Функция для вычисления ROC Curve + Precision-Recall'''\n",
        "    fprs = []\n",
        "    tprs = []\n",
        "    precisions = []\n",
        "    recalls = []\n",
        "\n",
        "    for threshold in thresholds:\n",
        "        # перебор значения порогов\n",
        "        y_pred = 0\n",
        "        fp, tp, fn, tn = 0, 0, 0, 0\n",
        "\n",
        "        for y_prob, y_true in zip(probabilities, labels):\n",
        "            # подсчет fp, tp, fn, tn\n",
        "            if y_prob >= threshold:\n",
        "                y_pred = 1\n",
        "            else:\n",
        "                y_pred = 0\n",
        "\n",
        "            if (y_pred == 1) & (y_true == 0):\n",
        "                fp += 1\n",
        "            elif (y_pred == 1) & (y_true == 1):\n",
        "                tp += 1\n",
        "            elif (y_pred == 0) & (y_true == 1):\n",
        "                fn += 1\n",
        "            else:\n",
        "                tn += 1\n",
        "\n",
        "        # вычисление fpr и tpr\n",
        "        fpr = fp / (fp + tn)\n",
        "        tpr = tp / (tp + fn)\n",
        "        fprs.append(fpr)\n",
        "        tprs.append(tpr)\n",
        "\n",
        "        # вычисление precision и recall\n",
        "        if prre: \n",
        "            precision = tp / (tp + fp)\n",
        "            recall = tp / (tp + fn)\n",
        "            precisions.append(precision)\n",
        "            recalls.append(recall)\n",
        "\n",
        "        if debug:\n",
        "          print(f'fps: {fp}, tps: {tp}, fns: {fn}, tns: {tn}')\n",
        "          print(f'fpr: {fpr}, tpr: {tpr}')\n",
        "          print(f'precision: {precision}, recall: {recall}')\n",
        "          return None\n",
        "\n",
        "    if prre:\n",
        "        return fprs, tprs, precisions, recalls\n",
        "\n",
        "    return fprs, tprs"
      ],
      "metadata": {
        "id": "SJ6v6EJv_tf_"
      },
      "execution_count": null,
      "outputs": []
    },
    {
      "cell_type": "code",
      "source": [
        "# проверка работы функции\n",
        "_roc_curve(df_pred['y_prob'], df_pred['y_true'], [0.5], prre=True, debug=True)"
      ],
      "metadata": {
        "colab": {
          "base_uri": "https://localhost:8080/"
        },
        "id": "AuK_YBBXj--6",
        "outputId": "f82ba164-b6d9-4343-ca23-df316e277aee"
      },
      "execution_count": null,
      "outputs": [
        {
          "output_type": "stream",
          "name": "stdout",
          "text": [
            "fps: 187, tps: 1029, fns: 242, tns: 850\n",
            "fpr: 0.18032786885245902, tpr: 0.8095987411487018\n",
            "precision: 0.8462171052631579, recall: 0.8095987411487018\n"
          ]
        }
      ]
    },
    {
      "cell_type": "code",
      "source": [
        "# получение необходимых значений\n",
        "_fprs, _tprs, _precisions, _recalls = _roc_curve(df_pred['y_prob'], df_pred['y_true'], df_pred['y_prob'].unique(), prre=True)"
      ],
      "metadata": {
        "id": "_4lBuwYx_wsz"
      },
      "execution_count": null,
      "outputs": []
    },
    {
      "cell_type": "markdown",
      "source": [
        "### 6. Постройте ROC-кривую с помощью вычисленных в п. 5 метрик: объедините графики из п. 3 и п. 6 в один. Сравните, сделайте вывод.\n",
        "\n",
        "---"
      ],
      "metadata": {
        "id": "Ui-Ix9IcMlwU"
      }
    },
    {
      "cell_type": "code",
      "source": [
        "# построение графика ROC-кривой (с объединением)\n",
        "plt.figure(figsize=(9, 7))\n",
        "plt.plot(_fprs, _tprs, '--', color='black')\n",
        "plt.plot(fprs, tprs, '--', color='y')\n",
        "plt.grid(axis = 'both')\n",
        "plt.ylabel('True Positive Rate')\n",
        "plt.xlabel('False Positive Rate')\n",
        "plt.title('ROC Curve')\n",
        "plt.show()"
      ],
      "metadata": {
        "colab": {
          "base_uri": "https://localhost:8080/",
          "height": 458
        },
        "id": "ZO-WHl5LK1rZ",
        "outputId": "66029cfb-932d-4c87-9dee-ee3f64169834"
      },
      "execution_count": null,
      "outputs": [
        {
          "output_type": "display_data",
          "data": {
            "text/plain": [
              "<Figure size 648x504 with 1 Axes>"
            ],
            "image/png": "[encoded data removed]"
          },
          "metadata": {
            "needs_background": "light"
          }
        }
      ]
    },
    {
      "cell_type": "markdown",
      "source": [
        "**Вывод:**\n",
        "\n",
        "Графики полностью повторяют друг друга. Собственная реализация вычисления ROC-кривой дает те же результаты, что и релизация из sklearn."
      ],
      "metadata": {
        "id": "fwOEy3RgdNSm"
      }
    },
    {
      "cell_type": "markdown",
      "source": [
        "### 7. Постройте график Precision-Recall, используя метрики, посчитанные в п. 5.\n",
        "\n",
        "---"
      ],
      "metadata": {
        "id": "id29JmZbdvlQ"
      }
    },
    {
      "cell_type": "code",
      "source": [
        "# построение графика Precision-Recall\n",
        "plt.figure(figsize=(7, 3))\n",
        "plt.plot(_recalls, _precisions)\n",
        "plt.grid(axis = 'both')\n",
        "plt.xlabel('Recall')\n",
        "plt.ylabel('Precision')\n",
        "plt.title('Precision-Recall')\n",
        "plt.xlim(0, 1)\n",
        "plt.ylim(0, 1)\n",
        "plt.show()"
      ],
      "metadata": {
        "colab": {
          "base_uri": "https://localhost:8080/",
          "height": 241
        },
        "id": "D-qY3x85faMs",
        "outputId": "d03c27ab-ef0b-445a-a8ed-8ab65368e683"
      },
      "execution_count": null,
      "outputs": [
        {
          "output_type": "display_data",
          "data": {
            "text/plain": [
              "<Figure size 504x216 with 1 Axes>"
            ],
            "image/png": "[encoded data removed]"
          },
          "metadata": {
            "needs_background": "light"
          }
        }
      ]
    },
    {
      "cell_type": "markdown",
      "source": [
        "### 8. *Вычислите значение ROC-AUC метрики, используя метрики, посчитанные в п. 5.\n",
        "\n",
        "---"
      ],
      "metadata": {
        "id": "cN8SoiOBlct6"
      }
    },
    {
      "cell_type": "code",
      "source": [
        "# для вычисления auc score используем метод numpy - trapz (интегрируем)\n",
        "-np.trapz(_tprs, _fprs)"
      ],
      "metadata": {
        "colab": {
          "base_uri": "https://localhost:8080/"
        },
        "id": "ylYgSDDwlcTj",
        "outputId": "725568d9-fa7b-44f7-ce52-1077cbddf90b"
      },
      "execution_count": null,
      "outputs": [
        {
          "output_type": "execute_result",
          "data": {
            "text/plain": [
              "0.8863247869732562"
            ]
          },
          "metadata": {},
          "execution_count": 32
        }
      ]
    },
    {
      "cell_type": "markdown",
      "source": [
        "### 9. Сформулируйте выводы по проделанной работе:\n",
        "\n",
        "a. как по полученным графикам сделать вывод о качестве модели? Как вы оцениваете обученную модель исходя из подсчитанных метрик?\n",
        "\n",
        "b. *может ли ROC-кривая проходить ниже диагонали?\n",
        "\n",
        "---"
      ],
      "metadata": {
        "id": "nGQZAtyVn1z4"
      }
    },
    {
      "cell_type": "markdown",
      "source": [
        "По полученным метрикам Precision/Recall мы можем оценить точность и полноту классификации. В нашем случае при пороге в 0.5 получаем значения: precision: 0.8462171052631579, recall: 0.8095987411487018. Это говорит о том, что в ~15 процентов случаях мы не правильно классифицировали НЕцелевой объект (false positive), и 20% целевых объектов также не было классифицированно. В зависимости от требований и целей мы можем менять данное соотношение.\n",
        "\n",
        "С помощью ROG-кривой мы можем визуально наилучшим образом подобрать порог отсечения. Данный график показывает отношение true positive к false positive.\n",
        "\n",
        "Исходя из данных метрик можно сделать вывод о том, что модель обучена неплохо, хотя конечно, есть куда стремиться."
      ],
      "metadata": {
        "id": "EGuNI3JRr72c"
      }
    },
    {
      "cell_type": "markdown",
      "source": [
        "ROC-кривая находящася на диагонали означает случайный принцип классификации объектов. Если кривая упадет ниже диагонали это означает, что модель работает \"против нас\". С моделью в данном случае точно что-то не так.\n"
      ],
      "metadata": {
        "id": "NIvHypvPowoo"
      }
    }
  ]
}