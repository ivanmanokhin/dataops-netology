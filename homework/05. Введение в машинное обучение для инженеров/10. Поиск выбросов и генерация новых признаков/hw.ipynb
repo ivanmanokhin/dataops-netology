{
  "cells": [
    {
      "cell_type": "markdown",
      "id": "4ee6d02d",
      "metadata": {
        "id": "4ee6d02d"
      },
      "source": [
        "## Домашнее задание по теме: \"Поиск выбросов и генерация новых признаков\""
      ]
    },
    {
      "cell_type": "markdown",
      "id": "1ea35091",
      "metadata": {
        "id": "1ea35091"
      },
      "source": [
        "Описание задания:\n",
        "    \n",
        "В домашнем задании нужно решить задачу классификации типа стекол. Данные для обучения моделей можно скачать с сайта. Целевая переменная – тип стекла «Type». Остальные признаки описывают химические элементы в составе материала. Датасет нужно исследовать на наличие выбросов, провести EDA."
      ]
    },
    {
      "cell_type": "markdown",
      "id": "69fd55f2",
      "metadata": {
        "id": "69fd55f2"
      },
      "source": [
        "### 1. Получите данные и загрузите их в рабочую среду."
      ]
    },
    {
      "cell_type": "code",
      "execution_count": null,
      "id": "d059f633",
      "metadata": {
        "id": "d059f633"
      },
      "outputs": [],
      "source": [
        "import pandas as pd\n",
        "import numpy as np\n",
        "import matplotlib.pyplot as plt\n",
        "%matplotlib inline\n",
        "import seaborn as sns"
      ]
    },
    {
      "cell_type": "code",
      "source": [
        "# загрузка csv в google colab\n",
        "from google.colab import files\n",
        "uploaded = files.upload()"
      ],
      "metadata": {
        "colab": {
          "base_uri": "https://localhost:8080/",
          "height": 72
        },
        "id": "DIcXHv44aPl5",
        "outputId": "2e0f9140-c2b3-4f76-f5b3-08debd4e32e5"
      },
      "id": "DIcXHv44aPl5",
      "execution_count": null,
      "outputs": [
        {
          "output_type": "display_data",
          "data": {
            "text/plain": [
              "<IPython.core.display.HTML object>"
            ],
            "text/html": [
              "\n",
              "     <input type=\"file\" id=\"files-778a8c48-c6a3-469d-8eab-634f65c9459b\" name=\"files[]\" multiple disabled\n",
              "        style=\"border:none\" />\n",
              "     <output id=\"result-778a8c48-c6a3-469d-8eab-634f65c9459b\">\n",
              "      Upload widget is only available when the cell has been executed in the\n",
              "      current browser session. Please rerun this cell to enable.\n",
              "      </output>\n",
              "      <script>// Copyright 2017 Google LLC\n",
              "//\n",
              "// Licensed under the Apache License, Version 2.0 (the \"License\");\n",
              "// you may not use this file except in compliance with the License.\n",
              "// You may obtain a copy of the License at\n",
              "//\n",
              "//      http://www.apache.org/licenses/LICENSE-2.0\n",
              "//\n",
              "// Unless required by applicable law or agreed to in writing, software\n",
              "// distributed under the License is distributed on an \"AS IS\" BASIS,\n",
              "// WITHOUT WARRANTIES OR CONDITIONS OF ANY KIND, either express or implied.\n",
              "// See the License for the specific language governing permissions and\n",
              "// limitations under the License.\n",
              "\n",
              "/**\n",
              " * @fileoverview Helpers for google.colab Python module.\n",
              " */\n",
              "(function(scope) {\n",
              "function span(text, styleAttributes = {}) {\n",
              "  const element = document.createElement('span');\n",
              "  element.textContent = text;\n",
              "  for (const key of Object.keys(styleAttributes)) {\n",
              "    element.style[key] = styleAttributes[key];\n",
              "  }\n",
              "  return element;\n",
              "}\n",
              "\n",
              "// Max number of bytes which will be uploaded at a time.\n",
              "const MAX_PAYLOAD_SIZE = 100 * 1024;\n",
              "\n",
              "function _uploadFiles(inputId, outputId) {\n",
              "  const steps = uploadFilesStep(inputId, outputId);\n",
              "  const outputElement = document.getElementById(outputId);\n",
              "  // Cache steps on the outputElement to make it available for the next call\n",
              "  // to uploadFilesContinue from Python.\n",
              "  outputElement.steps = steps;\n",
              "\n",
              "  return _uploadFilesContinue(outputId);\n",
              "}\n",
              "\n",
              "// This is roughly an async generator (not supported in the browser yet),\n",
              "// where there are multiple asynchronous steps and the Python side is going\n",
              "// to poll for completion of each step.\n",
              "// This uses a Promise to block the python side on completion of each step,\n",
              "// then passes the result of the previous step as the input to the next step.\n",
              "function _uploadFilesContinue(outputId) {\n",
              "  const outputElement = document.getElementById(outputId);\n",
              "  const steps = outputElement.steps;\n",
              "\n",
              "  const next = steps.next(outputElement.lastPromiseValue);\n",
              "  return Promise.resolve(next.value.promise).then((value) => {\n",
              "    // Cache the last promise value to make it available to the next\n",
              "    // step of the generator.\n",
              "    outputElement.lastPromiseValue = value;\n",
              "    return next.value.response;\n",
              "  });\n",
              "}\n",
              "\n",
              "/**\n",
              " * Generator function which is called between each async step of the upload\n",
              " * process.\n",
              " * @param {string} inputId Element ID of the input file picker element.\n",
              " * @param {string} outputId Element ID of the output display.\n",
              " * @return {!Iterable<!Object>} Iterable of next steps.\n",
              " */\n",
              "function* uploadFilesStep(inputId, outputId) {\n",
              "  const inputElement = document.getElementById(inputId);\n",
              "  inputElement.disabled = false;\n",
              "\n",
              "  const outputElement = document.getElementById(outputId);\n",
              "  outputElement.innerHTML = '';\n",
              "\n",
              "  const pickedPromise = new Promise((resolve) => {\n",
              "    inputElement.addEventListener('change', (e) => {\n",
              "      resolve(e.target.files);\n",
              "    });\n",
              "  });\n",
              "\n",
              "  const cancel = document.createElement('button');\n",
              "  inputElement.parentElement.appendChild(cancel);\n",
              "  cancel.textContent = 'Cancel upload';\n",
              "  const cancelPromise = new Promise((resolve) => {\n",
              "    cancel.onclick = () => {\n",
              "      resolve(null);\n",
              "    };\n",
              "  });\n",
              "\n",
              "  // Wait for the user to pick the files.\n",
              "  const files = yield {\n",
              "    promise: Promise.race([pickedPromise, cancelPromise]),\n",
              "    response: {\n",
              "      action: 'starting',\n",
              "    }\n",
              "  };\n",
              "\n",
              "  cancel.remove();\n",
              "\n",
              "  // Disable the input element since further picks are not allowed.\n",
              "  inputElement.disabled = true;\n",
              "\n",
              "  if (!files) {\n",
              "    return {\n",
              "      response: {\n",
              "        action: 'complete',\n",
              "      }\n",
              "    };\n",
              "  }\n",
              "\n",
              "  for (const file of files) {\n",
              "    const li = document.createElement('li');\n",
              "    li.append(span(file.name, {fontWeight: 'bold'}));\n",
              "    li.append(span(\n",
              "        `(${file.type || 'n/a'}) - ${file.size} bytes, ` +\n",
              "        `last modified: ${\n",
              "            file.lastModifiedDate ? file.lastModifiedDate.toLocaleDateString() :\n",
              "                                    'n/a'} - `));\n",
              "    const percent = span('0% done');\n",
              "    li.appendChild(percent);\n",
              "\n",
              "    outputElement.appendChild(li);\n",
              "\n",
              "    const fileDataPromise = new Promise((resolve) => {\n",
              "      const reader = new FileReader();\n",
              "      reader.onload = (e) => {\n",
              "        resolve(e.target.result);\n",
              "      };\n",
              "      reader.readAsArrayBuffer(file);\n",
              "    });\n",
              "    // Wait for the data to be ready.\n",
              "    let fileData = yield {\n",
              "      promise: fileDataPromise,\n",
              "      response: {\n",
              "        action: 'continue',\n",
              "      }\n",
              "    };\n",
              "\n",
              "    // Use a chunked sending to avoid message size limits. See b/62115660.\n",
              "    let position = 0;\n",
              "    do {\n",
              "      const length = Math.min(fileData.byteLength - position, MAX_PAYLOAD_SIZE);\n",
              "      const chunk = new Uint8Array(fileData, position, length);\n",
              "      position += length;\n",
              "\n",
              "      const base64 = btoa(String.fromCharCode.apply(null, chunk));\n",
              "      yield {\n",
              "        response: {\n",
              "          action: 'append',\n",
              "          file: file.name,\n",
              "          data: base64,\n",
              "        },\n",
              "      };\n",
              "\n",
              "      let percentDone = fileData.byteLength === 0 ?\n",
              "          100 :\n",
              "          Math.round((position / fileData.byteLength) * 100);\n",
              "      percent.textContent = `${percentDone}% done`;\n",
              "\n",
              "    } while (position < fileData.byteLength);\n",
              "  }\n",
              "\n",
              "  // All done.\n",
              "  yield {\n",
              "    response: {\n",
              "      action: 'complete',\n",
              "    }\n",
              "  };\n",
              "}\n",
              "\n",
              "scope.google = scope.google || {};\n",
              "scope.google.colab = scope.google.colab || {};\n",
              "scope.google.colab._files = {\n",
              "  _uploadFiles,\n",
              "  _uploadFilesContinue,\n",
              "};\n",
              "})(self);\n",
              "</script> "
            ]
          },
          "metadata": {}
        },
        {
          "output_type": "stream",
          "name": "stdout",
          "text": [
            "Saving glass.csv to glass.csv\n"
          ]
        }
      ]
    },
    {
      "cell_type": "code",
      "execution_count": null,
      "id": "c8d21848",
      "metadata": {
        "id": "c8d21848"
      },
      "outputs": [],
      "source": [
        "df = pd.read_csv('./glass.csv')"
      ]
    },
    {
      "cell_type": "code",
      "execution_count": null,
      "id": "36928613",
      "metadata": {
        "scrolled": true,
        "colab": {
          "base_uri": "https://localhost:8080/",
          "height": 206
        },
        "id": "36928613",
        "outputId": "76e2b075-8fe7-4ae1-caf7-d95c840307df"
      },
      "outputs": [
        {
          "output_type": "execute_result",
          "data": {
            "text/plain": [
              "        RI     Na    Mg    Al     Si     K    Ca   Ba   Fe  Type\n",
              "0  1.52101  13.64  4.49  1.10  71.78  0.06  8.75  0.0  0.0     1\n",
              "1  1.51761  13.89  3.60  1.36  72.73  0.48  7.83  0.0  0.0     1\n",
              "2  1.51618  13.53  3.55  1.54  72.99  0.39  7.78  0.0  0.0     1\n",
              "3  1.51766  13.21  3.69  1.29  72.61  0.57  8.22  0.0  0.0     1\n",
              "4  1.51742  13.27  3.62  1.24  73.08  0.55  8.07  0.0  0.0     1"
            ],
            "text/html": [
              "\n",
              "  <div id=\"df-312fb7a6-45d9-4276-a373-ba80065a9429\">\n",
              "    <div class=\"colab-df-container\">\n",
              "      <div>\n",
              "<style scoped>\n",
              "    .dataframe tbody tr th:only-of-type {\n",
              "        vertical-align: middle;\n",
              "    }\n",
              "\n",
              "    .dataframe tbody tr th {\n",
              "        vertical-align: top;\n",
              "    }\n",
              "\n",
              "    .dataframe thead th {\n",
              "        text-align: right;\n",
              "    }\n",
              "</style>\n",
              "<table border=\"1\" class=\"dataframe\">\n",
              "  <thead>\n",
              "    <tr style=\"text-align: right;\">\n",
              "      <th></th>\n",
              "      <th>RI</th>\n",
              "      <th>Na</th>\n",
              "      <th>Mg</th>\n",
              "      <th>Al</th>\n",
              "      <th>Si</th>\n",
              "      <th>K</th>\n",
              "      <th>Ca</th>\n",
              "      <th>Ba</th>\n",
              "      <th>Fe</th>\n",
              "      <th>Type</th>\n",
              "    </tr>\n",
              "  </thead>\n",
              "  <tbody>\n",
              "    <tr>\n",
              "      <th>0</th>\n",
              "      <td>1.52101</td>\n",
              "      <td>13.64</td>\n",
              "      <td>4.49</td>\n",
              "      <td>1.10</td>\n",
              "      <td>71.78</td>\n",
              "      <td>0.06</td>\n",
              "      <td>8.75</td>\n",
              "      <td>0.0</td>\n",
              "      <td>0.0</td>\n",
              "      <td>1</td>\n",
              "    </tr>\n",
              "    <tr>\n",
              "      <th>1</th>\n",
              "      <td>1.51761</td>\n",
              "      <td>13.89</td>\n",
              "      <td>3.60</td>\n",
              "      <td>1.36</td>\n",
              "      <td>72.73</td>\n",
              "      <td>0.48</td>\n",
              "      <td>7.83</td>\n",
              "      <td>0.0</td>\n",
              "      <td>0.0</td>\n",
              "      <td>1</td>\n",
              "    </tr>\n",
              "    <tr>\n",
              "      <th>2</th>\n",
              "      <td>1.51618</td>\n",
              "      <td>13.53</td>\n",
              "      <td>3.55</td>\n",
              "      <td>1.54</td>\n",
              "      <td>72.99</td>\n",
              "      <td>0.39</td>\n",
              "      <td>7.78</td>\n",
              "      <td>0.0</td>\n",
              "      <td>0.0</td>\n",
              "      <td>1</td>\n",
              "    </tr>\n",
              "    <tr>\n",
              "      <th>3</th>\n",
              "      <td>1.51766</td>\n",
              "      <td>13.21</td>\n",
              "      <td>3.69</td>\n",
              "      <td>1.29</td>\n",
              "      <td>72.61</td>\n",
              "      <td>0.57</td>\n",
              "      <td>8.22</td>\n",
              "      <td>0.0</td>\n",
              "      <td>0.0</td>\n",
              "      <td>1</td>\n",
              "    </tr>\n",
              "    <tr>\n",
              "      <th>4</th>\n",
              "      <td>1.51742</td>\n",
              "      <td>13.27</td>\n",
              "      <td>3.62</td>\n",
              "      <td>1.24</td>\n",
              "      <td>73.08</td>\n",
              "      <td>0.55</td>\n",
              "      <td>8.07</td>\n",
              "      <td>0.0</td>\n",
              "      <td>0.0</td>\n",
              "      <td>1</td>\n",
              "    </tr>\n",
              "  </tbody>\n",
              "</table>\n",
              "</div>\n",
              "      <button class=\"colab-df-convert\" onclick=\"convertToInteractive('df-312fb7a6-45d9-4276-a373-ba80065a9429')\"\n",
              "              title=\"Convert this dataframe to an interactive table.\"\n",
              "              style=\"display:none;\">\n",
              "        \n",
              "  <svg xmlns=\"http://www.w3.org/2000/svg\" height=\"24px\"viewBox=\"0 0 24 24\"\n",
              "       width=\"24px\">\n",
              "    <path d=\"M0 0h24v24H0V0z\" fill=\"none\"/>\n",
              "    <path d=\"M18.56 5.44l.94 2.06.94-2.06 2.06-.94-2.06-.94-.94-2.06-.94 2.06-2.06.94zm-11 1L8.5 8.5l.94-2.06 2.06-.94-2.06-.94L8.5 2.5l-.94 2.06-2.06.94zm10 10l.94 2.06.94-2.06 2.06-.94-2.06-.94-.94-2.06-.94 2.06-2.06.94z\"/><path d=\"M17.41 7.96l-1.37-1.37c-.4-.4-.92-.59-1.43-.59-.52 0-1.04.2-1.43.59L10.3 9.45l-7.72 7.72c-.78.78-.78 2.05 0 2.83L4 21.41c.39.39.9.59 1.41.59.51 0 1.02-.2 1.41-.59l7.78-7.78 2.81-2.81c.8-.78.8-2.07 0-2.86zM5.41 20L4 18.59l7.72-7.72 1.47 1.35L5.41 20z\"/>\n",
              "  </svg>\n",
              "      </button>\n",
              "      \n",
              "  <style>\n",
              "    .colab-df-container {\n",
              "      display:flex;\n",
              "      flex-wrap:wrap;\n",
              "      gap: 12px;\n",
              "    }\n",
              "\n",
              "    .colab-df-convert {\n",
              "      background-color: #E8F0FE;\n",
              "      border: none;\n",
              "      border-radius: 50%;\n",
              "      cursor: pointer;\n",
              "      display: none;\n",
              "      fill: #1967D2;\n",
              "      height: 32px;\n",
              "      padding: 0 0 0 0;\n",
              "      width: 32px;\n",
              "    }\n",
              "\n",
              "    .colab-df-convert:hover {\n",
              "      background-color: #E2EBFA;\n",
              "      box-shadow: 0px 1px 2px rgba(60, 64, 67, 0.3), 0px 1px 3px 1px rgba(60, 64, 67, 0.15);\n",
              "      fill: #174EA6;\n",
              "    }\n",
              "\n",
              "    [theme=dark] .colab-df-convert {\n",
              "      background-color: #3B4455;\n",
              "      fill: #D2E3FC;\n",
              "    }\n",
              "\n",
              "    [theme=dark] .colab-df-convert:hover {\n",
              "      background-color: #434B5C;\n",
              "      box-shadow: 0px 1px 3px 1px rgba(0, 0, 0, 0.15);\n",
              "      filter: drop-shadow(0px 1px 2px rgba(0, 0, 0, 0.3));\n",
              "      fill: #FFFFFF;\n",
              "    }\n",
              "  </style>\n",
              "\n",
              "      <script>\n",
              "        const buttonEl =\n",
              "          document.querySelector('#df-312fb7a6-45d9-4276-a373-ba80065a9429 button.colab-df-convert');\n",
              "        buttonEl.style.display =\n",
              "          google.colab.kernel.accessAllowed ? 'block' : 'none';\n",
              "\n",
              "        async function convertToInteractive(key) {\n",
              "          const element = document.querySelector('#df-312fb7a6-45d9-4276-a373-ba80065a9429');\n",
              "          const dataTable =\n",
              "            await google.colab.kernel.invokeFunction('convertToInteractive',\n",
              "                                                     [key], {});\n",
              "          if (!dataTable) return;\n",
              "\n",
              "          const docLinkHtml = 'Like what you see? Visit the ' +\n",
              "            '<a target=\"_blank\" href=https://colab.research.google.com/notebooks/data_table.ipynb>data table notebook</a>'\n",
              "            + ' to learn more about interactive tables.';\n",
              "          element.innerHTML = '';\n",
              "          dataTable['output_type'] = 'display_data';\n",
              "          await google.colab.output.renderOutput(dataTable, element);\n",
              "          const docLink = document.createElement('div');\n",
              "          docLink.innerHTML = docLinkHtml;\n",
              "          element.appendChild(docLink);\n",
              "        }\n",
              "      </script>\n",
              "    </div>\n",
              "  </div>\n",
              "  "
            ]
          },
          "metadata": {},
          "execution_count": 4
        }
      ],
      "source": [
        "df.head()"
      ]
    },
    {
      "cell_type": "code",
      "execution_count": null,
      "id": "a619aa84",
      "metadata": {
        "colab": {
          "base_uri": "https://localhost:8080/"
        },
        "id": "a619aa84",
        "outputId": "f66fa7b0-d965-47b5-e827-5d8ecd7f464b"
      },
      "outputs": [
        {
          "output_type": "stream",
          "name": "stdout",
          "text": [
            "<class 'pandas.core.frame.DataFrame'>\n",
            "RangeIndex: 214 entries, 0 to 213\n",
            "Data columns (total 10 columns):\n",
            " #   Column  Non-Null Count  Dtype  \n",
            "---  ------  --------------  -----  \n",
            " 0   RI      214 non-null    float64\n",
            " 1   Na      214 non-null    float64\n",
            " 2   Mg      214 non-null    float64\n",
            " 3   Al      214 non-null    float64\n",
            " 4   Si      214 non-null    float64\n",
            " 5   K       214 non-null    float64\n",
            " 6   Ca      214 non-null    float64\n",
            " 7   Ba      214 non-null    float64\n",
            " 8   Fe      214 non-null    float64\n",
            " 9   Type    214 non-null    int64  \n",
            "dtypes: float64(9), int64(1)\n",
            "memory usage: 16.8 KB\n"
          ]
        }
      ],
      "source": [
        "df.info()"
      ]
    },
    {
      "cell_type": "markdown",
      "id": "38acd2bf",
      "metadata": {
        "id": "38acd2bf"
      },
      "source": [
        "## 2. Проведите первичный анализ.\n",
        "\n",
        "а) Проверьте количество записей для каждого класса. Сделайте вывод."
      ]
    },
    {
      "cell_type": "code",
      "execution_count": null,
      "id": "a8acb0bf",
      "metadata": {
        "id": "a8acb0bf"
      },
      "outputs": [],
      "source": [
        "# словарь с классом стекол\n",
        "# bw -- building windows\n",
        "# bwn -- building windows non\n",
        "# vw -- building windows\n",
        "\n",
        "glass_class = [\n",
        "    'bw_float_processed',\n",
        "    'bwn_float_processed',\n",
        "    'vw_float_processed',\n",
        "    'containers',\n",
        "    'tableware',\n",
        "    'headlamps'\n",
        "]"
      ]
    },
    {
      "cell_type": "code",
      "execution_count": null,
      "id": "bd6a9bdb",
      "metadata": {
        "colab": {
          "base_uri": "https://localhost:8080/",
          "height": 367
        },
        "id": "bd6a9bdb",
        "outputId": "1f508c52-c441-4440-ce43-47ad8f43069a"
      },
      "outputs": [
        {
          "output_type": "execute_result",
          "data": {
            "text/plain": [
              "Text(0.5, 0, 'Class')"
            ]
          },
          "metadata": {},
          "execution_count": 7
        },
        {
          "output_type": "display_data",
          "data": {
            "text/plain": [
              "<Figure size 1080x360 with 1 Axes>"
            ],
            "image/png": "[encoded data removed]"
          },
          "metadata": {
            "needs_background": "light"
          }
        }
      ],
      "source": [
        "# построение графика с количеством через countplot\n",
        "plt.figure(figsize=(15, 5))\n",
        "ax = sns.countplot(x=df['Type'], palette='viridis')\n",
        "ax.set_title('Количество записей для каждого класса')\n",
        "ax.bar_label(container=ax.containers[0], labels=glass_class, label_type='center', color='w')\n",
        "ax.set_xlabel('Class')"
      ]
    },
    {
      "cell_type": "markdown",
      "id": "1f27ce3d",
      "metadata": {
        "id": "1f27ce3d"
      },
      "source": [
        "Вывод: в датасете преобладают классы: 2 (building_windows_non_float_processed) и 1 (building_windows_non_float_processed)."
      ]
    },
    {
      "cell_type": "markdown",
      "id": "2d9bdd00",
      "metadata": {
        "id": "2d9bdd00"
      },
      "source": [
        "### 3. Разделите выборку на обучающее и тестовое подмножество. 80% данных оставить на обучающее множество, 20% на тестовое."
      ]
    },
    {
      "cell_type": "code",
      "execution_count": null,
      "id": "bb596089",
      "metadata": {
        "id": "bb596089"
      },
      "outputs": [],
      "source": [
        "from sklearn.model_selection import train_test_split\n",
        "from sklearn.preprocessing import StandardScaler\n",
        "\n",
        "X = df.drop('Type', axis=1)\n",
        "y = df['Type']\n",
        "\n",
        "X_train, X_test, y_train, y_test = train_test_split(X, y, test_size=0.2, random_state=42)"
      ]
    },
    {
      "cell_type": "markdown",
      "id": "732bb994",
      "metadata": {
        "id": "732bb994"
      },
      "source": [
        "### 4. Обучите модель дерева решений RandomForestClassifier на обучающем множестве."
      ]
    },
    {
      "cell_type": "code",
      "execution_count": null,
      "id": "caaa53f9",
      "metadata": {
        "colab": {
          "base_uri": "https://localhost:8080/"
        },
        "id": "caaa53f9",
        "outputId": "45df23fa-2335-4d8e-9a9b-ac4f604f36ce"
      },
      "outputs": [
        {
          "output_type": "execute_result",
          "data": {
            "text/plain": [
              "RandomForestClassifier(random_state=42)"
            ]
          },
          "metadata": {},
          "execution_count": 9
        }
      ],
      "source": [
        "from sklearn.ensemble import RandomForestClassifier\n",
        "\n",
        "clf = RandomForestClassifier(random_state=42)\n",
        "clf.fit(X_train, y_train)"
      ]
    },
    {
      "cell_type": "markdown",
      "id": "f865b0d1",
      "metadata": {
        "id": "f865b0d1"
      },
      "source": [
        "### 5. Для тестового множества предскажите тип стекла и сравните с истинным значением, посчитав точность предсказания модели (accuracy)."
      ]
    },
    {
      "cell_type": "code",
      "execution_count": null,
      "id": "078d64b6",
      "metadata": {
        "colab": {
          "base_uri": "https://localhost:8080/"
        },
        "id": "078d64b6",
        "outputId": "702edf91-3ba5-4366-fe3b-e321036b6494"
      },
      "outputs": [
        {
          "output_type": "execute_result",
          "data": {
            "text/plain": [
              "0.8372093023255814"
            ]
          },
          "metadata": {},
          "execution_count": 10
        }
      ],
      "source": [
        "from sklearn.metrics import accuracy_score\n",
        "\n",
        "y_pred = clf.predict(X_test)\n",
        "accuracy_score(y_test, y_pred)"
      ]
    },
    {
      "cell_type": "markdown",
      "id": "c37edce6",
      "metadata": {
        "id": "c37edce6"
      },
      "source": [
        "### Обработайте выбросы в данных.\n",
        "\n",
        "а) Визуализируйте распределение значений для каждой переменной. Можно использовать функции sns.boxplot, sns.distplot. Есть ли признаки с нормальным распределением?\n",
        "\n",
        "b) Исследуйте признаки на выбросы несколькими способами.\n",
        "\n",
        "c) Удалите выбросы. *Посчитайте процент удаленных записей от общего числа записей для каждого класса."
      ]
    },
    {
      "cell_type": "code",
      "execution_count": null,
      "id": "3d065e02",
      "metadata": {
        "colab": {
          "base_uri": "https://localhost:8080/",
          "height": 729
        },
        "id": "3d065e02",
        "outputId": "00280125-55ba-4f00-8d88-a2f87c8ea381"
      },
      "outputs": [
        {
          "output_type": "display_data",
          "data": {
            "text/plain": [
              "<Figure size 1152x720 with 10 Axes>"
            ],
            "image/png": "[encoded data removed]"
          },
          "metadata": {
            "needs_background": "light"
          }
        }
      ],
      "source": [
        "# boxplot по всем признакам из датасета\n",
        "fig, axs = plt.subplots(nrows=5, ncols=2, figsize=(16, 10))\n",
        "\n",
        "for i, ax in enumerate(axs.flat):\n",
        "    sns.boxplot(x=df.iloc[:, i], ax=ax, palette='light:b')\n",
        "    ax.set_title(df.columns[i])\n",
        "    ax.set_xlabel(\"\")\n",
        "\n",
        "plt.tight_layout()\n",
        "plt.show()"
      ]
    },
    {
      "cell_type": "code",
      "execution_count": null,
      "id": "6f2a1109",
      "metadata": {
        "colab": {
          "base_uri": "https://localhost:8080/",
          "height": 1000
        },
        "id": "6f2a1109",
        "outputId": "890fd2c1-89c0-4dc4-9fe4-97e2ce46f46c"
      },
      "outputs": [
        {
          "output_type": "display_data",
          "data": {
            "text/plain": [
              "<Figure size 1152x1080 with 12 Axes>"
            ],
            "image/png": "[encoded data removed]"
          },
          "metadata": {
            "needs_background": "light"
          }
        }
      ],
      "source": [
        "# displot по всем признакам из датасета\n",
        "fig, axs = plt.subplots(nrows=4, ncols=3, figsize=(16, 15))\n",
        "\n",
        "for i, ax in zip(range(10), axs.flat):\n",
        "    sns.histplot(df.iloc[:, i], ax=ax, element='step')\n",
        "\n",
        "plt.tight_layout()\n",
        "plt.show()"
      ]
    },
    {
      "cell_type": "markdown",
      "id": "d4d0e2db",
      "metadata": {
        "id": "d4d0e2db"
      },
      "source": [
        "Признаками с примерно нормальным распределением можно считать: Ri, Na, Ma, Si, Ca"
      ]
    },
    {
      "cell_type": "code",
      "execution_count": null,
      "id": "bdbbacd4",
      "metadata": {
        "colab": {
          "base_uri": "https://localhost:8080/"
        },
        "id": "bdbbacd4",
        "outputId": "e290ed57-3b63-4f25-f979-40edd45a4e79"
      },
      "outputs": [
        {
          "output_type": "stream",
          "name": "stdout",
          "text": [
            "Количество найденных выбросов методом Isolation Forest: 21\n"
          ]
        }
      ],
      "source": [
        "# поиск выбросов методом изолированного леса\n",
        "from sklearn.ensemble import IsolationForest\n",
        "ifclf = IsolationForest(random_state=42)\n",
        "ifclf.fit(X_train)\n",
        "ifclf_labels = ifclf.predict(X_train)\n",
        "print(f'Количество найденных выбросов методом Isolation Forest: {len(np.where(ifclf_labels == -1)[0])}')"
      ]
    },
    {
      "cell_type": "code",
      "execution_count": null,
      "id": "7e4f4fe5",
      "metadata": {
        "colab": {
          "base_uri": "https://localhost:8080/"
        },
        "id": "7e4f4fe5",
        "outputId": "b4bae5c1-7940-48a5-d00a-be32f4b5122b"
      },
      "outputs": [
        {
          "output_type": "stream",
          "name": "stdout",
          "text": [
            "Количество найденных выбросов методом DBScan: 32\n"
          ]
        }
      ],
      "source": [
        "# поиск выбросов методом DBScan\n",
        "from sklearn.cluster import DBSCAN\n",
        "dbsclf = DBSCAN(eps=0.9, min_samples=5)\n",
        "dbsclf.fit(X_train)\n",
        "print(f'Количество найденных выбросов методом DBScan: {len(np.where(dbsclf.labels_ == -1)[0])}')"
      ]
    },
    {
      "cell_type": "code",
      "execution_count": null,
      "id": "198a8d57",
      "metadata": {
        "id": "198a8d57"
      },
      "outputs": [],
      "source": [
        "# удаление выбросов\n",
        "X_train_cleaned = X_train[np.where(ifclf_labels == 1, True, False)]"
      ]
    },
    {
      "cell_type": "code",
      "execution_count": null,
      "id": "8ebe3a36",
      "metadata": {
        "id": "8ebe3a36"
      },
      "outputs": [],
      "source": [
        "# подсчет процента удаленных записей для каждого класса\n",
        "\n",
        "def codr(df_full, df_train, df_train_cleaned):\n",
        "    '''Функция для подсчета процента удаленных строк в каждом классе'''\n",
        "    unclean_count = df_full.iloc[df_train.index].groupby('Type')['Type'].count()\n",
        "    clean_count = df_full.iloc[df_train_cleaned.index].groupby('Type')['Type'].count()\n",
        "    for _class, unclean, clean in zip(unclean_count.index, unclean_count, clean_count):\n",
        "        print(f'Класс: {_class}. Процент удаленных записей: {round((100 - (clean / unclean * 100)), 2)}')"
      ]
    },
    {
      "cell_type": "code",
      "execution_count": null,
      "id": "fc66dbaf",
      "metadata": {
        "colab": {
          "base_uri": "https://localhost:8080/"
        },
        "id": "fc66dbaf",
        "outputId": "bc385d4b-2d0c-4286-9e2d-bd2ab33768f8"
      },
      "outputs": [
        {
          "output_type": "stream",
          "name": "stdout",
          "text": [
            "Класс: 1. Процент удаленных записей: 0.0\n",
            "Класс: 2. Процент удаленных записей: 11.29\n",
            "Класс: 3. Процент удаленных записей: 0.0\n",
            "Класс: 5. Процент удаленных записей: 44.44\n",
            "Класс: 6. Процент удаленных записей: 16.67\n",
            "Класс: 7. Процент удаленных записей: 42.86\n"
          ]
        }
      ],
      "source": [
        "codr(df, X_train, X_train_cleaned)"
      ]
    },
    {
      "cell_type": "markdown",
      "id": "0c2eccfd",
      "metadata": {
        "id": "0c2eccfd"
      },
      "source": [
        "### 7. Повторите п. 4, п. 5."
      ]
    },
    {
      "cell_type": "code",
      "execution_count": null,
      "id": "f88c42c6",
      "metadata": {
        "id": "f88c42c6"
      },
      "outputs": [],
      "source": [
        "y_train_cleaned = df.iloc[X_train_cleaned.index]['Type']"
      ]
    },
    {
      "cell_type": "code",
      "execution_count": null,
      "id": "d39a0400",
      "metadata": {
        "colab": {
          "base_uri": "https://localhost:8080/"
        },
        "id": "d39a0400",
        "outputId": "7f22409b-6764-4f53-9a79-0d2128caf720"
      },
      "outputs": [
        {
          "output_type": "execute_result",
          "data": {
            "text/plain": [
              "0.813953488372093"
            ]
          },
          "metadata": {},
          "execution_count": 19
        }
      ],
      "source": [
        "clf = RandomForestClassifier(random_state=42)\n",
        "clf.fit(X_train_cleaned, y_train_cleaned)\n",
        "y_pred = clf.predict(X_test)\n",
        "accuracy_score(y_test, y_pred)"
      ]
    },
    {
      "cell_type": "markdown",
      "id": "829411e7",
      "metadata": {
        "id": "829411e7"
      },
      "source": [
        "### 8. Сформулируйте выводы по проделанной работе.\n",
        "\n",
        "а) Кратко опишите, какие преобразования были сделаны с данными.\n",
        "\n",
        "b) Сравните точность двух моделей.\n",
        "\n",
        "c) Напишите свое мнение, нужно ли исследовать данные на выбросы, для чего это делается, плюсы и минусы подхода."
      ]
    },
    {
      "cell_type": "markdown",
      "id": "2bac11c9",
      "metadata": {
        "id": "2bac11c9"
      },
      "source": [
        "В процессе выполнения задания была обучена модель (методом \"случайного леса\"), визуализированы значения переменных. Признаки были проанализированны на наличие нормального распределения.\n",
        "\n",
        "Поиск выбросов осуществлялся методами изолированного леса и DBScan.\n",
        "\n",
        "После удаления найденных выбросов точность модели ухудшилась (0.8372 | 0.8140). На мой взгяд, это связанно с тем, что сам датасет небольшой по объему и каждая запись вносит большой вклад для обучения всей модели.\n",
        "\n",
        "Данные на выбросы необходимо исследовать в любом случае, т.к. они могут серьезно ухудшить качество модели.\n",
        "\n",
        "Плюсом является возможное улучшение качества, минусом - потеря данных."
      ]
    }
  ],
  "metadata": {
    "kernelspec": {
      "display_name": "Python 3 (ipykernel)",
      "language": "python",
      "name": "python3"
    },
    "language_info": {
      "codemirror_mode": {
        "name": "ipython",
        "version": 3
      },
      "file_extension": ".py",
      "mimetype": "text/x-python",
      "name": "python",
      "nbconvert_exporter": "python",
      "pygments_lexer": "ipython3",
      "version": "3.11.2"
    },
    "colab": {
      "provenance": []
    }
  },
  "nbformat": 4,
  "nbformat_minor": 5
}